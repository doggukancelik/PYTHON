{
 "cells": [
  {
   "cell_type": "markdown",
   "id": "9350f4cb",
   "metadata": {},
   "source": [
    "# İNSTANCE & ATTRIBUTE"
   ]
  },
  {
   "cell_type": "code",
   "execution_count": 28,
   "id": "57adbf38",
   "metadata": {},
   "outputs": [
    {
     "name": "stdout",
     "output_type": "stream",
     "text": [
      "init calling\n",
      "batman 30 çaycı\n"
     ]
    }
   ],
   "source": [
    "class SuperKahraman():\n",
    "    ozelGuc=\"gorunmezlik\"\n",
    "    def __init__(self,isim,yas,meslek):\n",
    "        print(\"init calling\")\n",
    "        self.isim=isim\n",
    "        self.yas=yas\n",
    "        self.meslek=meslek\n",
    "        print(self.isim+\" \"+ str(self.yas)+\" \"+self.meslek)\n",
    "    def ornekMethod(self):\n",
    "        print(\"ben görünmezim\")\n",
    "    #self nedir?\n",
    "    #classa ait olan demektir.class içinde self çalışır ve methodlara self eklemek zorunludur.\n",
    "           \n",
    "batman=SuperKahraman(\"batman\",30,\"çaycı\")"
   ]
  },
  {
   "cell_type": "code",
   "execution_count": 29,
   "id": "aeba3ab2",
   "metadata": {},
   "outputs": [
    {
     "data": {
      "text/plain": [
       "'batman'"
      ]
     },
     "execution_count": 29,
     "metadata": {},
     "output_type": "execute_result"
    }
   ],
   "source": [
    "batman.isim"
   ]
  },
  {
   "cell_type": "code",
   "execution_count": 30,
   "id": "813c1bf0",
   "metadata": {},
   "outputs": [
    {
     "data": {
      "text/plain": [
       "30"
      ]
     },
     "execution_count": 30,
     "metadata": {},
     "output_type": "execute_result"
    }
   ],
   "source": [
    "batman.yas"
   ]
  },
  {
   "cell_type": "code",
   "execution_count": 31,
   "id": "fd142a5b",
   "metadata": {},
   "outputs": [
    {
     "data": {
      "text/plain": [
       "'gorunmezlik'"
      ]
     },
     "execution_count": 31,
     "metadata": {},
     "output_type": "execute_result"
    }
   ],
   "source": [
    "batman.ozelGuc\n",
    "#bu özellik hep çalışır"
   ]
  },
  {
   "cell_type": "code",
   "execution_count": 32,
   "id": "0cbd2ef5",
   "metadata": {},
   "outputs": [
    {
     "name": "stdout",
     "output_type": "stream",
     "text": [
      "ben görünmezim\n"
     ]
    }
   ],
   "source": [
    "batman.ornekMethod()"
   ]
  },
  {
   "cell_type": "markdown",
   "id": "ba5fb3f1",
   "metadata": {},
   "source": [
    "default "
   ]
  },
  {
   "cell_type": "code",
   "execution_count": 56,
   "id": "8b6aa1d4",
   "metadata": {},
   "outputs": [],
   "source": [
    "class Kopek():\n",
    "    yil=7\n",
    "    def __init__(self,yas=5):\n",
    "        self.yas=yas\n",
    "        \n",
    "    def yasHesaplama(self):\n",
    "        return self.yas*self.yil\n",
    "        #return self.yas*Kopek.yil"
   ]
  },
  {
   "cell_type": "code",
   "execution_count": 51,
   "id": "f630b365",
   "metadata": {},
   "outputs": [],
   "source": [
    "myDog=Kopek()"
   ]
  },
  {
   "cell_type": "code",
   "execution_count": 52,
   "id": "76ac2454",
   "metadata": {},
   "outputs": [
    {
     "data": {
      "text/plain": [
       "5"
      ]
     },
     "execution_count": 52,
     "metadata": {},
     "output_type": "execute_result"
    }
   ],
   "source": [
    "myDog.yas"
   ]
  },
  {
   "cell_type": "code",
   "execution_count": 53,
   "id": "616318d2",
   "metadata": {},
   "outputs": [],
   "source": [
    "myDog2=Kopek(4)"
   ]
  },
  {
   "cell_type": "code",
   "execution_count": 54,
   "id": "ce2d9acf",
   "metadata": {},
   "outputs": [
    {
     "data": {
      "text/plain": [
       "4"
      ]
     },
     "execution_count": 54,
     "metadata": {},
     "output_type": "execute_result"
    }
   ],
   "source": [
    "myDog2.yas"
   ]
  },
  {
   "cell_type": "code",
   "execution_count": 55,
   "id": "8d5a4de3",
   "metadata": {},
   "outputs": [
    {
     "data": {
      "text/plain": [
       "28"
      ]
     },
     "execution_count": 55,
     "metadata": {},
     "output_type": "execute_result"
    }
   ],
   "source": [
    "myDog2.yasHesaplama()"
   ]
  },
  {
   "cell_type": "markdown",
   "id": "6e0e4842",
   "metadata": {},
   "source": [
    "# inheritance"
   ]
  },
  {
   "cell_type": "code",
   "execution_count": 81,
   "id": "d1f7ad2b",
   "metadata": {},
   "outputs": [],
   "source": [
    "class Hayvan():\n",
    "    def __init__(self):\n",
    "        print(\"Hayvan SINIFI init\")\n",
    "    def method1(self):\n",
    "        print(\"hayvan sinifi method 1\")\n",
    "    def method2(self):\n",
    "        print(\"hayvan sinifi method 2\")"
   ]
  },
  {
   "cell_type": "code",
   "execution_count": 82,
   "id": "08eb6041",
   "metadata": {},
   "outputs": [
    {
     "name": "stdout",
     "output_type": "stream",
     "text": [
      "Hayvan SINIFI init\n"
     ]
    }
   ],
   "source": [
    "myAnimal=Hayvan()"
   ]
  },
  {
   "cell_type": "code",
   "execution_count": 83,
   "id": "d1c5137a",
   "metadata": {},
   "outputs": [
    {
     "name": "stdout",
     "output_type": "stream",
     "text": [
      "hayvan sinifi method 1\n"
     ]
    }
   ],
   "source": [
    "myAnimal.method1()"
   ]
  },
  {
   "cell_type": "code",
   "execution_count": 84,
   "id": "ceac683a",
   "metadata": {},
   "outputs": [],
   "source": [
    "class Kedi(Hayvan):\n",
    "    def __init__(self):\n",
    "        Hayvan.__init__(self)\n",
    "        print(\"kedi sınıfı init\")\n",
    "    def miyavla(self):\n",
    "        print(\"miyavv\")\n",
    "    #override\n",
    "    def method1(self):\n",
    "        print(\"kedi sinifi method 1\")"
   ]
  },
  {
   "cell_type": "code",
   "execution_count": 85,
   "id": "d5a974b0",
   "metadata": {},
   "outputs": [
    {
     "name": "stdout",
     "output_type": "stream",
     "text": [
      "Hayvan SINIFI init\n",
      "kedi sınıfı init\n"
     ]
    }
   ],
   "source": [
    "myCat=Kedi()"
   ]
  },
  {
   "cell_type": "code",
   "execution_count": 86,
   "id": "66ead7fc",
   "metadata": {},
   "outputs": [
    {
     "name": "stdout",
     "output_type": "stream",
     "text": [
      "kedi sinifi method 1\n"
     ]
    }
   ],
   "source": [
    "myCat.method1()"
   ]
  },
  {
   "cell_type": "code",
   "execution_count": 87,
   "id": "11ba76af",
   "metadata": {},
   "outputs": [
    {
     "name": "stdout",
     "output_type": "stream",
     "text": [
      "miyavv\n"
     ]
    }
   ],
   "source": [
    "myCat.miyavla()"
   ]
  },
  {
   "cell_type": "code",
   "execution_count": 88,
   "id": "09a10440",
   "metadata": {},
   "outputs": [],
   "source": [
    "#myAnimal.miyavla()      not working"
   ]
  },
  {
   "cell_type": "code",
   "execution_count": 89,
   "id": "bdfb8bba",
   "metadata": {},
   "outputs": [
    {
     "name": "stdout",
     "output_type": "stream",
     "text": [
      "kedi sinifi method 1\n"
     ]
    }
   ],
   "source": [
    "myCat.method1()\n",
    "#override"
   ]
  },
  {
   "cell_type": "markdown",
   "id": "863e4f34",
   "metadata": {},
   "source": [
    "# polymorphism"
   ]
  },
  {
   "cell_type": "code",
   "execution_count": 9,
   "id": "7b991b6e",
   "metadata": {},
   "outputs": [],
   "source": [
    "class Elma():\n",
    "    def __init__(self,isim):\n",
    "        self.isim=isim\n",
    "    def bilgi(self):\n",
    "        return self.isim+ \" 100 kaloridir\"\n",
    "        "
   ]
  },
  {
   "cell_type": "code",
   "execution_count": 10,
   "id": "c0f90803",
   "metadata": {},
   "outputs": [],
   "source": [
    "class Muz():\n",
    "    def __init__(self,isim):\n",
    "        self.isim=isim\n",
    "    def bilgi(self):\n",
    "        return self.isim+\" 150 kaloridir\""
   ]
  },
  {
   "cell_type": "code",
   "execution_count": 14,
   "id": "96757b79",
   "metadata": {},
   "outputs": [],
   "source": [
    "elma=Elma(\"elma\")"
   ]
  },
  {
   "cell_type": "code",
   "execution_count": 15,
   "id": "8bab3779",
   "metadata": {},
   "outputs": [],
   "source": [
    "muz=Muz(\"muz\")"
   ]
  },
  {
   "cell_type": "code",
   "execution_count": 16,
   "id": "8ada288d",
   "metadata": {},
   "outputs": [],
   "source": [
    "meyveListesi=[elma,muz]"
   ]
  },
  {
   "cell_type": "code",
   "execution_count": null,
   "id": "5811274f",
   "metadata": {},
   "outputs": [],
   "source": []
  },
  {
   "cell_type": "markdown",
   "id": "08b1f127",
   "metadata": {},
   "source": [
    "# special method"
   ]
  },
  {
   "cell_type": "code",
   "execution_count": 32,
   "id": "18356e64",
   "metadata": {},
   "outputs": [],
   "source": [
    "class Meyve():\n",
    "    \n",
    "    def __init__(self,isim,kalori):\n",
    "        self.isim=isim\n",
    "        self.kalori=kalori\n",
    "    def __str__(self):\n",
    "        return f\"{self.isim} kalori:  { self.kalori} \"\n",
    "    def __len__(self):\n",
    "        return self.kalori\n",
    "muzx = Meyve(\"muz\",140)  "
   ]
  },
  {
   "cell_type": "code",
   "execution_count": 33,
   "id": "b5d76b59",
   "metadata": {},
   "outputs": [
    {
     "data": {
      "text/plain": [
       "140"
      ]
     },
     "execution_count": 33,
     "metadata": {},
     "output_type": "execute_result"
    }
   ],
   "source": [
    "muzx.kalori"
   ]
  },
  {
   "cell_type": "code",
   "execution_count": 34,
   "id": "1ccf9a5c",
   "metadata": {},
   "outputs": [
    {
     "name": "stdout",
     "output_type": "stream",
     "text": [
      "muz kalori:  140 \n"
     ]
    }
   ],
   "source": [
    "print(muzx)"
   ]
  },
  {
   "cell_type": "code",
   "execution_count": 36,
   "id": "072796cd",
   "metadata": {},
   "outputs": [
    {
     "data": {
      "text/plain": [
       "140"
      ]
     },
     "execution_count": 36,
     "metadata": {},
     "output_type": "execute_result"
    }
   ],
   "source": [
    "len(muzx)"
   ]
  },
  {
   "cell_type": "markdown",
   "id": "7309ccf0",
   "metadata": {},
   "source": [
    "# modul and packages"
   ]
  },
  {
   "cell_type": "code",
   "execution_count": 40,
   "id": "1f94b40a",
   "metadata": {},
   "outputs": [],
   "source": [
    "import numpy as np\n",
    "import matplotlib.pyplot as matplotlib"
   ]
  },
  {
   "cell_type": "code",
   "execution_count": 42,
   "id": "616ba3b3",
   "metadata": {},
   "outputs": [],
   "source": [
    "maasListesi=np.random.normal(4000,500,1000)"
   ]
  },
  {
   "cell_type": "code",
   "execution_count": 43,
   "id": "3cc5453b",
   "metadata": {},
   "outputs": [
    {
     "data": {
      "text/plain": [
       "4024.9275130920746"
      ]
     },
     "execution_count": 43,
     "metadata": {},
     "output_type": "execute_result"
    }
   ],
   "source": [
    "np.mean(maasListesi)"
   ]
  },
  {
   "cell_type": "code",
   "execution_count": 45,
   "id": "c4ec4310",
   "metadata": {},
   "outputs": [
    {
     "data": {
      "image/png": "[encoded data removed]",
      "text/plain": [
       "<Figure size 432x288 with 1 Axes>"
      ]
     },
     "metadata": {
      "needs_background": "light"
     },
     "output_type": "display_data"
    }
   ],
   "source": [
    "matplotlib.hist(maasListesi,50)\n",
    "matplotlib.show()"
   ]
  },
  {
   "cell_type": "markdown",
   "id": "89e0eb3d",
   "metadata": {},
   "source": [
    "small note"
   ]
  },
  {
   "cell_type": "code",
   "execution_count": 46,
   "id": "d2432336",
   "metadata": {},
   "outputs": [],
   "source": [
    "#kendi modüllerimizi sublime textde .py dosyları ile yapabiliriz."
   ]
  },
  {
   "cell_type": "code",
   "execution_count": null,
   "id": "c2f6b2de",
   "metadata": {},
   "outputs": [],
   "source": []
  }
 ],
 "metadata": {
  "kernelspec": {
   "display_name": "Python 3",
   "language": "python",
   "name": "python3"
  },
  "language_info": {
   "codemirror_mode": {
    "name": "ipython",
    "version": 3
   },
   "file_extension": ".py",
   "mimetype": "text/x-python",
   "name": "python",
   "nbconvert_exporter": "python",
   "pygments_lexer": "ipython3",
   "version": "3.8.8"
  }
 },
 "nbformat": 4,
 "nbformat_minor": 5
}
