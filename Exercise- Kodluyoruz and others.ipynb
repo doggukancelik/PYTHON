{
 "cells": [
  {
   "cell_type": "markdown",
   "id": "babb6ee5",
   "metadata": {},
   "source": [
    "exercise 1"
   ]
  },
  {
   "cell_type": "code",
   "execution_count": 12,
   "id": "59fe0dae",
   "metadata": {},
   "outputs": [
    {
     "name": "stdout",
     "output_type": "stream",
     "text": [
      "[1, 'a', 'cat', 2, 3, 'dog', 4, 5]\n"
     ]
    }
   ],
   "source": [
    "def flat(mylist):\n",
    "    new_list = []\n",
    "    for item in mylist:\n",
    "        if isinstance(item, (list, tuple)):\n",
    "            new_list.extend(flat(item))\n",
    "        else:\n",
    "            new_list.append(item)\n",
    "    return new_list\n",
    "\n",
    "new_list = flat([[1,'a',['cat'],2],[[[3]],'dog'],4,5])\n",
    "print(new_list)"
   ]
  },
  {
   "cell_type": "markdown",
   "id": "dd4ef760",
   "metadata": {},
   "source": [
    "exercise "
   ]
  },
  {
   "cell_type": "code",
   "execution_count": 18,
   "id": "69cbdc74",
   "metadata": {},
   "outputs": [
    {
     "data": {
      "text/plain": [
       "[[7, 6, 5], [4, 3], [2, 1]]"
      ]
     },
     "execution_count": 18,
     "metadata": {},
     "output_type": "execute_result"
    }
   ],
   "source": [
    "def is_list(p): \n",
    "    return isinstance(p, list)\n",
    "\n",
    "def deep_reverse(mylist):\n",
    "    result = []\n",
    "    for e in mylist:\n",
    "        if isinstance(e, list):\n",
    "            result.append(deep_reverse(e))\n",
    "        else:\n",
    "            result.append(e)\n",
    "    result.reverse()\n",
    "    return result\n",
    "\n",
    "myList= [[1, 2], [3, 4], [5, 6, 7]]\n",
    "deep_reverse(myList)"
   ]
  },
  {
   "cell_type": "code",
   "execution_count": null,
   "id": "6e002d7a",
   "metadata": {},
   "outputs": [],
   "source": []
  }
 ],
 "metadata": {
  "kernelspec": {
   "display_name": "Python 3",
   "language": "python",
   "name": "python3"
  },
  "language_info": {
   "codemirror_mode": {
    "name": "ipython",
    "version": 3
   },
   "file_extension": ".py",
   "mimetype": "text/x-python",
   "name": "python",
   "nbconvert_exporter": "python",
   "pygments_lexer": "ipython3",
   "version": "3.8.8"
  }
 },
 "nbformat": 4,
 "nbformat_minor": 5
}
