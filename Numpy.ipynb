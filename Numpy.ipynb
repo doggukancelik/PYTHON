{
 "cells": [
  {
   "cell_type": "code",
   "execution_count": 2,
   "id": "4e1e840c",
   "metadata": {},
   "outputs": [],
   "source": [
    "import numpy as np"
   ]
  },
  {
   "cell_type": "markdown",
   "id": "1258ee97",
   "metadata": {},
   "source": [
    "array"
   ]
  },
  {
   "cell_type": "code",
   "execution_count": 5,
   "id": "83cbd611",
   "metadata": {},
   "outputs": [],
   "source": [
    "myArray=[20,30,40]   \n",
    "#list"
   ]
  },
  {
   "cell_type": "code",
   "execution_count": 6,
   "id": "8e8e6772",
   "metadata": {},
   "outputs": [
    {
     "data": {
      "text/plain": [
       "array([20, 30, 40])"
      ]
     },
     "execution_count": 6,
     "metadata": {},
     "output_type": "execute_result"
    }
   ],
   "source": [
    "np.array(myArray)\n",
    "#np array"
   ]
  },
  {
   "cell_type": "code",
   "execution_count": 7,
   "id": "81d79329",
   "metadata": {},
   "outputs": [],
   "source": [
    "matrixList=[[10,20,30],[20,30,40],[40,80,60]]\n",
    "#list"
   ]
  },
  {
   "cell_type": "code",
   "execution_count": 8,
   "id": "1e88a272",
   "metadata": {},
   "outputs": [
    {
     "data": {
      "text/plain": [
       "array([[10, 20, 30],\n",
       "       [20, 30, 40],\n",
       "       [40, 80, 60]])"
      ]
     },
     "execution_count": 8,
     "metadata": {},
     "output_type": "execute_result"
    }
   ],
   "source": [
    "np.array(matrixList)"
   ]
  },
  {
   "cell_type": "markdown",
   "id": "1ed8cc40",
   "metadata": {},
   "source": [
    "# arange"
   ]
  },
  {
   "cell_type": "code",
   "execution_count": 9,
   "id": "01464bfc",
   "metadata": {},
   "outputs": [
    {
     "data": {
      "text/plain": [
       "[0, 1, 2, 3, 4, 5, 6, 7, 8, 9]"
      ]
     },
     "execution_count": 9,
     "metadata": {},
     "output_type": "execute_result"
    }
   ],
   "source": [
    "list(range(0,10))"
   ]
  },
  {
   "cell_type": "code",
   "execution_count": 10,
   "id": "cb4176b4",
   "metadata": {},
   "outputs": [
    {
     "data": {
      "text/plain": [
       "array([0, 1, 2, 3, 4, 5, 6, 7, 8, 9])"
      ]
     },
     "execution_count": 10,
     "metadata": {},
     "output_type": "execute_result"
    }
   ],
   "source": [
    "np.arange(0,10)"
   ]
  },
  {
   "cell_type": "code",
   "execution_count": 11,
   "id": "3d930e0a",
   "metadata": {},
   "outputs": [
    {
     "data": {
      "text/plain": [
       "array([0, 2, 4, 6, 8])"
      ]
     },
     "execution_count": 11,
     "metadata": {},
     "output_type": "execute_result"
    }
   ],
   "source": [
    "np.arange(0,10,2)"
   ]
  },
  {
   "cell_type": "code",
   "execution_count": 12,
   "id": "d752acef",
   "metadata": {},
   "outputs": [
    {
     "data": {
      "text/plain": [
       "array([0., 0., 0., 0., 0., 0., 0., 0., 0., 0.])"
      ]
     },
     "execution_count": 12,
     "metadata": {},
     "output_type": "execute_result"
    }
   ],
   "source": [
    "np.zeros(10)"
   ]
  },
  {
   "cell_type": "code",
   "execution_count": 13,
   "id": "1e4bbe4d",
   "metadata": {},
   "outputs": [
    {
     "data": {
      "text/plain": [
       "array([[0., 0., 0.],\n",
       "       [0., 0., 0.],\n",
       "       [0., 0., 0.]])"
      ]
     },
     "execution_count": 13,
     "metadata": {},
     "output_type": "execute_result"
    }
   ],
   "source": [
    "np.zeros((3,3))"
   ]
  },
  {
   "cell_type": "code",
   "execution_count": 14,
   "id": "f147178f",
   "metadata": {},
   "outputs": [
    {
     "data": {
      "text/plain": [
       "array([1., 1., 1., 1., 1., 1., 1.])"
      ]
     },
     "execution_count": 14,
     "metadata": {},
     "output_type": "execute_result"
    }
   ],
   "source": [
    "np.ones(7)"
   ]
  },
  {
   "cell_type": "code",
   "execution_count": 15,
   "id": "a8f5a31e",
   "metadata": {},
   "outputs": [
    {
     "data": {
      "text/plain": [
       "array([[1., 1.],\n",
       "       [1., 1.]])"
      ]
     },
     "execution_count": 15,
     "metadata": {},
     "output_type": "execute_result"
    }
   ],
   "source": [
    "np.ones((2,2))"
   ]
  },
  {
   "cell_type": "markdown",
   "id": "b993fb76",
   "metadata": {},
   "source": [
    "# linspace"
   ]
  },
  {
   "cell_type": "code",
   "execution_count": 16,
   "id": "84ff4183",
   "metadata": {},
   "outputs": [
    {
     "data": {
      "text/plain": [
       "array([ 0.,  5., 10., 15., 20.])"
      ]
     },
     "execution_count": 16,
     "metadata": {},
     "output_type": "execute_result"
    }
   ],
   "source": [
    "np.linspace(0,20,5)"
   ]
  },
  {
   "cell_type": "code",
   "execution_count": 18,
   "id": "86bb710c",
   "metadata": {},
   "outputs": [
    {
     "data": {
      "text/plain": [
       "array([ 0., 10., 20.])"
      ]
     },
     "execution_count": 18,
     "metadata": {},
     "output_type": "execute_result"
    }
   ],
   "source": [
    "np.linspace(0,20,3)\n",
    "#eşit parçaya bölüyor"
   ]
  },
  {
   "cell_type": "code",
   "execution_count": 19,
   "id": "c6350754",
   "metadata": {},
   "outputs": [
    {
     "data": {
      "text/plain": [
       "array([ 0.        ,  0.71428571,  1.42857143,  2.14285714,  2.85714286,\n",
       "        3.57142857,  4.28571429,  5.        ,  5.71428571,  6.42857143,\n",
       "        7.14285714,  7.85714286,  8.57142857,  9.28571429, 10.        ])"
      ]
     },
     "execution_count": 19,
     "metadata": {},
     "output_type": "execute_result"
    }
   ],
   "source": [
    "np.linspace(0,10,15)"
   ]
  },
  {
   "cell_type": "markdown",
   "id": "fac3ffc6",
   "metadata": {},
   "source": [
    "# eye"
   ]
  },
  {
   "cell_type": "code",
   "execution_count": 20,
   "id": "ff50adda",
   "metadata": {},
   "outputs": [
    {
     "data": {
      "text/plain": [
       "array([[1., 0., 0.],\n",
       "       [0., 1., 0.],\n",
       "       [0., 0., 1.]])"
      ]
     },
     "execution_count": 20,
     "metadata": {},
     "output_type": "execute_result"
    }
   ],
   "source": [
    "np.eye(3)"
   ]
  },
  {
   "cell_type": "code",
   "execution_count": 22,
   "id": "7cf2f680",
   "metadata": {},
   "outputs": [
    {
     "data": {
      "text/plain": [
       "array([[1., 0.],\n",
       "       [0., 1.]])"
      ]
     },
     "execution_count": 22,
     "metadata": {},
     "output_type": "execute_result"
    }
   ],
   "source": [
    "np.eye(2)"
   ]
  },
  {
   "cell_type": "markdown",
   "id": "ce9a422a",
   "metadata": {},
   "source": [
    "# random"
   ]
  },
  {
   "cell_type": "code",
   "execution_count": 28,
   "id": "03dbd325",
   "metadata": {},
   "outputs": [
    {
     "data": {
      "text/plain": [
       "-0.27312044087966175"
      ]
     },
     "execution_count": 28,
     "metadata": {},
     "output_type": "execute_result"
    }
   ],
   "source": [
    "np.random.randn()"
   ]
  },
  {
   "cell_type": "code",
   "execution_count": 30,
   "id": "9f1a4aec",
   "metadata": {},
   "outputs": [
    {
     "data": {
      "text/plain": [
       "array([ 1.16120976, -1.08820128, -0.64406358])"
      ]
     },
     "execution_count": 30,
     "metadata": {},
     "output_type": "execute_result"
    }
   ],
   "source": [
    "np.random.randn(3)"
   ]
  },
  {
   "cell_type": "code",
   "execution_count": 40,
   "id": "eda4b4c2",
   "metadata": {},
   "outputs": [],
   "source": [
    "myRandom =np.random.randn(30)"
   ]
  },
  {
   "cell_type": "code",
   "execution_count": 41,
   "id": "90b3d299",
   "metadata": {},
   "outputs": [
    {
     "data": {
      "text/plain": [
       "6"
      ]
     },
     "execution_count": 41,
     "metadata": {},
     "output_type": "execute_result"
    }
   ],
   "source": [
    "np.random.randint(1,10)"
   ]
  },
  {
   "cell_type": "code",
   "execution_count": 38,
   "id": "ffc62139",
   "metadata": {},
   "outputs": [
    {
     "data": {
      "text/plain": [
       "array([5, 4, 2])"
      ]
     },
     "execution_count": 38,
     "metadata": {},
     "output_type": "execute_result"
    }
   ],
   "source": [
    "np.random.randint(1,10,3)\n",
    "#10 dahil değil 3 rastgele int deger verir"
   ]
  },
  {
   "cell_type": "markdown",
   "id": "21b8d057",
   "metadata": {},
   "source": [
    "# numpy array method"
   ]
  },
  {
   "cell_type": "code",
   "execution_count": 42,
   "id": "74e3f153",
   "metadata": {},
   "outputs": [
    {
     "data": {
      "text/plain": [
       "array([[-0.19675646, -0.71094157, -0.73866658, -0.58244273, -0.63528658,\n",
       "         1.26670731],\n",
       "       [ 0.18070282, -1.37716495,  3.46713646,  0.30311748,  1.01202167,\n",
       "        -0.18734982],\n",
       "       [ 0.02918692,  0.48592236,  1.84310088, -0.50447329,  1.56722113,\n",
       "        -0.69300977],\n",
       "       [-1.02743597, -0.9607789 , -0.80196463, -1.51229636, -0.33525031,\n",
       "        -0.44546005],\n",
       "       [-1.24776885,  1.8781398 ,  0.22248833,  0.01150443, -0.52287185,\n",
       "        -0.28442871]])"
      ]
     },
     "execution_count": 42,
     "metadata": {},
     "output_type": "execute_result"
    }
   ],
   "source": [
    "myRandom.reshape(5,6)"
   ]
  },
  {
   "cell_type": "code",
   "execution_count": 43,
   "id": "66d9df45",
   "metadata": {},
   "outputs": [
    {
     "data": {
      "text/plain": [
       "-1.5122963550114121"
      ]
     },
     "execution_count": 43,
     "metadata": {},
     "output_type": "execute_result"
    }
   ],
   "source": [
    "myRandom.min()"
   ]
  },
  {
   "cell_type": "code",
   "execution_count": 44,
   "id": "0617ab3d",
   "metadata": {},
   "outputs": [
    {
     "data": {
      "text/plain": [
       "3.4671364574475847"
      ]
     },
     "execution_count": 44,
     "metadata": {},
     "output_type": "execute_result"
    }
   ],
   "source": [
    "myRandom.max()"
   ]
  },
  {
   "cell_type": "code",
   "execution_count": 45,
   "id": "83d43257",
   "metadata": {},
   "outputs": [
    {
     "data": {
      "text/plain": [
       "-0.016569926656751947"
      ]
     },
     "execution_count": 45,
     "metadata": {},
     "output_type": "execute_result"
    }
   ],
   "source": [
    "myRandom.mean()"
   ]
  },
  {
   "cell_type": "code",
   "execution_count": 46,
   "id": "7194e9af",
   "metadata": {},
   "outputs": [
    {
     "data": {
      "text/plain": [
       "8"
      ]
     },
     "execution_count": 46,
     "metadata": {},
     "output_type": "execute_result"
    }
   ],
   "source": [
    "myRandom.argmax()"
   ]
  },
  {
   "cell_type": "code",
   "execution_count": 48,
   "id": "6cb34870",
   "metadata": {},
   "outputs": [
    {
     "data": {
      "text/plain": [
       "-0.4970977997025584"
      ]
     },
     "execution_count": 48,
     "metadata": {},
     "output_type": "execute_result"
    }
   ],
   "source": [
    "myRandom.sum()"
   ]
  },
  {
   "cell_type": "markdown",
   "id": "5db9f09f",
   "metadata": {},
   "source": [
    "# indexs "
   ]
  },
  {
   "cell_type": "code",
   "execution_count": 52,
   "id": "274783b0",
   "metadata": {},
   "outputs": [],
   "source": [
    "myArrayX = np.arange(0,15)"
   ]
  },
  {
   "cell_type": "code",
   "execution_count": 53,
   "id": "bda660be",
   "metadata": {},
   "outputs": [
    {
     "data": {
      "text/plain": [
       "array([ 0,  1,  2,  3,  4,  5,  6,  7,  8,  9, 10, 11, 12, 13, 14])"
      ]
     },
     "execution_count": 53,
     "metadata": {},
     "output_type": "execute_result"
    }
   ],
   "source": [
    "myArrayX"
   ]
  },
  {
   "cell_type": "code",
   "execution_count": 54,
   "id": "626d355b",
   "metadata": {},
   "outputs": [
    {
     "data": {
      "text/plain": [
       "5"
      ]
     },
     "execution_count": 54,
     "metadata": {},
     "output_type": "execute_result"
    }
   ],
   "source": [
    "myArrayX[5]"
   ]
  },
  {
   "cell_type": "code",
   "execution_count": 55,
   "id": "5201ca8e",
   "metadata": {},
   "outputs": [
    {
     "data": {
      "text/plain": [
       "array([4, 5, 6])"
      ]
     },
     "execution_count": 55,
     "metadata": {},
     "output_type": "execute_result"
    }
   ],
   "source": [
    "myArrayX[4:7]"
   ]
  },
  {
   "cell_type": "code",
   "execution_count": 56,
   "id": "96ec3d44",
   "metadata": {},
   "outputs": [
    {
     "data": {
      "text/plain": [
       "array([ 4,  6,  8, 10, 12])"
      ]
     },
     "execution_count": 56,
     "metadata": {},
     "output_type": "execute_result"
    }
   ],
   "source": [
    "myArrayX[4:14:2]"
   ]
  },
  {
   "cell_type": "code",
   "execution_count": 57,
   "id": "798cd274",
   "metadata": {},
   "outputs": [],
   "source": [
    "myArrayX[4:7]=-5"
   ]
  },
  {
   "cell_type": "code",
   "execution_count": 58,
   "id": "116e1426",
   "metadata": {},
   "outputs": [
    {
     "data": {
      "text/plain": [
       "array([ 0,  1,  2,  3, -5, -5, -5,  7,  8,  9, 10, 11, 12, 13, 14])"
      ]
     },
     "execution_count": 58,
     "metadata": {},
     "output_type": "execute_result"
    }
   ],
   "source": [
    "myArrayX"
   ]
  },
  {
   "cell_type": "code",
   "execution_count": 59,
   "id": "aec15852",
   "metadata": {},
   "outputs": [],
   "source": [
    "otherArray=np.arange(0,24)"
   ]
  },
  {
   "cell_type": "code",
   "execution_count": 60,
   "id": "ef9093f7",
   "metadata": {},
   "outputs": [],
   "source": [
    "slicingDizi=otherArray[4:9]"
   ]
  },
  {
   "cell_type": "code",
   "execution_count": 61,
   "id": "2f5edfd7",
   "metadata": {},
   "outputs": [
    {
     "data": {
      "text/plain": [
       "array([4, 5, 6, 7, 8])"
      ]
     },
     "execution_count": 61,
     "metadata": {},
     "output_type": "execute_result"
    }
   ],
   "source": [
    "slicingDizi"
   ]
  },
  {
   "cell_type": "code",
   "execution_count": 62,
   "id": "6870b85f",
   "metadata": {},
   "outputs": [
    {
     "data": {
      "text/plain": [
       "array([ 0,  1,  2,  3,  4,  5,  6,  7,  8,  9, 10, 11, 12, 13, 14, 15, 16,\n",
       "       17, 18, 19, 20, 21, 22, 23])"
      ]
     },
     "execution_count": 62,
     "metadata": {},
     "output_type": "execute_result"
    }
   ],
   "source": [
    "otherArray\n"
   ]
  },
  {
   "cell_type": "code",
   "execution_count": 63,
   "id": "0c85afd5",
   "metadata": {},
   "outputs": [],
   "source": [
    "slicingDizi[:]=400"
   ]
  },
  {
   "cell_type": "code",
   "execution_count": 64,
   "id": "f1bacf09",
   "metadata": {},
   "outputs": [
    {
     "data": {
      "text/plain": [
       "array([400, 400, 400, 400, 400])"
      ]
     },
     "execution_count": 64,
     "metadata": {},
     "output_type": "execute_result"
    }
   ],
   "source": [
    "slicingDizi"
   ]
  },
  {
   "cell_type": "code",
   "execution_count": 65,
   "id": "db08b47c",
   "metadata": {},
   "outputs": [
    {
     "data": {
      "text/plain": [
       "array([  0,   1,   2,   3, 400, 400, 400, 400, 400,   9,  10,  11,  12,\n",
       "        13,  14,  15,  16,  17,  18,  19,  20,  21,  22,  23])"
      ]
     },
     "execution_count": 65,
     "metadata": {},
     "output_type": "execute_result"
    }
   ],
   "source": [
    "otherArray"
   ]
  },
  {
   "cell_type": "markdown",
   "id": "77f7da0b",
   "metadata": {},
   "source": [
    "# matrix"
   ]
  },
  {
   "cell_type": "code",
   "execution_count": 74,
   "id": "53cc0f63",
   "metadata": {},
   "outputs": [],
   "source": [
    "listx=[[1,2,4],[5,67,4],[12,13,14]]\n",
    "ornekMatrix=np.array(listx )"
   ]
  },
  {
   "cell_type": "code",
   "execution_count": 75,
   "id": "a23341d5",
   "metadata": {},
   "outputs": [
    {
     "data": {
      "text/plain": [
       "array([[ 1,  2,  4],\n",
       "       [ 5, 67,  4],\n",
       "       [12, 13, 14]])"
      ]
     },
     "execution_count": 75,
     "metadata": {},
     "output_type": "execute_result"
    }
   ],
   "source": [
    "ornekMatrix"
   ]
  },
  {
   "cell_type": "code",
   "execution_count": 76,
   "id": "92ba5ed2",
   "metadata": {},
   "outputs": [
    {
     "data": {
      "text/plain": [
       "67"
      ]
     },
     "execution_count": 76,
     "metadata": {},
     "output_type": "execute_result"
    }
   ],
   "source": [
    "ornekMatrix[1,1]"
   ]
  },
  {
   "cell_type": "code",
   "execution_count": 77,
   "id": "d2de7cf4",
   "metadata": {},
   "outputs": [
    {
     "data": {
      "text/plain": [
       "1"
      ]
     },
     "execution_count": 77,
     "metadata": {},
     "output_type": "execute_result"
    }
   ],
   "source": [
    "ornekMatrix[0,0]"
   ]
  },
  {
   "cell_type": "code",
   "execution_count": 78,
   "id": "05dfa32d",
   "metadata": {},
   "outputs": [
    {
     "data": {
      "text/plain": [
       "array([12, 13, 14])"
      ]
     },
     "execution_count": 78,
     "metadata": {},
     "output_type": "execute_result"
    }
   ],
   "source": [
    "ornekMatrix[2]"
   ]
  },
  {
   "cell_type": "code",
   "execution_count": 80,
   "id": "94aecc1d",
   "metadata": {},
   "outputs": [
    {
     "data": {
      "text/plain": [
       "array([[ 5, 67,  4],\n",
       "       [12, 13, 14]])"
      ]
     },
     "execution_count": 80,
     "metadata": {},
     "output_type": "execute_result"
    }
   ],
   "source": [
    "ornekMatrix[[1,2]]"
   ]
  },
  {
   "cell_type": "markdown",
   "id": "7dab1f20",
   "metadata": {},
   "source": [
    "#operations "
   ]
  },
  {
   "cell_type": "code",
   "execution_count": 87,
   "id": "3f9ac1ea",
   "metadata": {},
   "outputs": [],
   "source": [
    "newArray= np.random.randint(5,100,20)"
   ]
  },
  {
   "cell_type": "code",
   "execution_count": 88,
   "id": "5aa21780",
   "metadata": {},
   "outputs": [
    {
     "data": {
      "text/plain": [
       "array([33, 16, 21, 11, 77, 94, 65, 70, 59, 32, 88, 10, 49,  5, 27, 56, 69,\n",
       "       52, 19, 26])"
      ]
     },
     "execution_count": 88,
     "metadata": {},
     "output_type": "execute_result"
    }
   ],
   "source": [
    "newArray"
   ]
  },
  {
   "cell_type": "code",
   "execution_count": 89,
   "id": "1214d422",
   "metadata": {},
   "outputs": [
    {
     "data": {
      "text/plain": [
       "array([ True, False, False, False,  True,  True,  True,  True,  True,\n",
       "        True,  True, False,  True, False,  True,  True,  True,  True,\n",
       "       False,  True])"
      ]
     },
     "execution_count": 89,
     "metadata": {},
     "output_type": "execute_result"
    }
   ],
   "source": [
    "newArray>24"
   ]
  },
  {
   "cell_type": "code",
   "execution_count": 90,
   "id": "7180a906",
   "metadata": {},
   "outputs": [
    {
     "data": {
      "text/plain": [
       "array([33, 77, 94, 65, 70, 59, 32, 88, 49, 27, 56, 69, 52, 26])"
      ]
     },
     "execution_count": 90,
     "metadata": {},
     "output_type": "execute_result"
    }
   ],
   "source": [
    "newArray[newArray>24]"
   ]
  },
  {
   "cell_type": "code",
   "execution_count": 91,
   "id": "c7ad65dd",
   "metadata": {},
   "outputs": [
    {
     "data": {
      "text/plain": [
       "array([33, 16, 21, 11, 77, 94, 65, 70, 59, 32, 88, 10, 49,  5, 27, 56, 69,\n",
       "       52, 19, 26])"
      ]
     },
     "execution_count": 91,
     "metadata": {},
     "output_type": "execute_result"
    }
   ],
   "source": [
    "newArray"
   ]
  },
  {
   "cell_type": "code",
   "execution_count": 97,
   "id": "85512f50",
   "metadata": {},
   "outputs": [
    {
     "data": {
      "text/plain": [
       "array([ 0,  1,  2,  3,  4,  5,  6,  7,  8,  9, 10, 11, 12, 13, 14, 15, 16,\n",
       "       17, 18, 19, 20, 21, 22, 23])"
      ]
     },
     "execution_count": 97,
     "metadata": {},
     "output_type": "execute_result"
    }
   ],
   "source": [
    "sonDizi=np.arange(0,24)\n",
    "sonDizi"
   ]
  },
  {
   "cell_type": "code",
   "execution_count": 98,
   "id": "5f18efc8",
   "metadata": {},
   "outputs": [
    {
     "data": {
      "text/plain": [
       "array([ 0,  2,  4,  6,  8, 10, 12, 14, 16, 18, 20, 22, 24, 26, 28, 30, 32,\n",
       "       34, 36, 38, 40, 42, 44, 46])"
      ]
     },
     "execution_count": 98,
     "metadata": {},
     "output_type": "execute_result"
    }
   ],
   "source": [
    "sonDizi+sonDizi"
   ]
  },
  {
   "cell_type": "code",
   "execution_count": 99,
   "id": "719312ab",
   "metadata": {},
   "outputs": [
    {
     "data": {
      "text/plain": [
       "array([0, 0, 0, 0, 0, 0, 0, 0, 0, 0, 0, 0, 0, 0, 0, 0, 0, 0, 0, 0, 0, 0,\n",
       "       0, 0])"
      ]
     },
     "execution_count": 99,
     "metadata": {},
     "output_type": "execute_result"
    }
   ],
   "source": [
    "sonDizi-sonDizi"
   ]
  },
  {
   "cell_type": "code",
   "execution_count": 100,
   "id": "07a88d74",
   "metadata": {},
   "outputs": [
    {
     "data": {
      "text/plain": [
       "array([  0,   1,   4,   9,  16,  25,  36,  49,  64,  81, 100, 121, 144,\n",
       "       169, 196, 225, 256, 289, 324, 361, 400, 441, 484, 529])"
      ]
     },
     "execution_count": 100,
     "metadata": {},
     "output_type": "execute_result"
    }
   ],
   "source": [
    "sonDizi*sonDizi"
   ]
  },
  {
   "cell_type": "code",
   "execution_count": 101,
   "id": "44ac1006",
   "metadata": {},
   "outputs": [
    {
     "data": {
      "text/plain": [
       "array([0.        , 1.        , 1.41421356, 1.73205081, 2.        ,\n",
       "       2.23606798, 2.44948974, 2.64575131, 2.82842712, 3.        ,\n",
       "       3.16227766, 3.31662479, 3.46410162, 3.60555128, 3.74165739,\n",
       "       3.87298335, 4.        , 4.12310563, 4.24264069, 4.35889894,\n",
       "       4.47213595, 4.58257569, 4.69041576, 4.79583152])"
      ]
     },
     "execution_count": 101,
     "metadata": {},
     "output_type": "execute_result"
    }
   ],
   "source": [
    "np.sqrt(sonDizi)"
   ]
  },
  {
   "cell_type": "code",
   "execution_count": 103,
   "id": "52c976e6",
   "metadata": {},
   "outputs": [
    {
     "data": {
      "text/plain": [
       "23"
      ]
     },
     "execution_count": 103,
     "metadata": {},
     "output_type": "execute_result"
    }
   ],
   "source": [
    "np.max(sonDizi)"
   ]
  },
  {
   "cell_type": "code",
   "execution_count": null,
   "id": "3a63eea8",
   "metadata": {},
   "outputs": [],
   "source": []
  }
 ],
 "metadata": {
  "kernelspec": {
   "display_name": "Python 3",
   "language": "python",
   "name": "python3"
  },
  "language_info": {
   "codemirror_mode": {
    "name": "ipython",
    "version": 3
   },
   "file_extension": ".py",
   "mimetype": "text/x-python",
   "name": "python",
   "nbconvert_exporter": "python",
   "pygments_lexer": "ipython3",
   "version": "3.8.8"
  }
 },
 "nbformat": 4,
 "nbformat_minor": 5
}
