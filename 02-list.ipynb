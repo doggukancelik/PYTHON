{
 "cells": [
  {
   "cell_type": "code",
   "execution_count": 1,
   "id": "7377389a",
   "metadata": {},
   "outputs": [],
   "source": [
    "benimString=\"Dogukan Celik\""
   ]
  },
  {
   "cell_type": "code",
   "execution_count": 2,
   "id": "06bc60f1",
   "metadata": {},
   "outputs": [
    {
     "data": {
      "text/plain": [
       "'g'"
      ]
     },
     "execution_count": 2,
     "metadata": {},
     "output_type": "execute_result"
    }
   ],
   "source": [
    "benimString[2]"
   ]
  },
  {
   "cell_type": "code",
   "execution_count": 3,
   "id": "a2ec69e9",
   "metadata": {},
   "outputs": [],
   "source": [
    "#immutability"
   ]
  },
  {
   "cell_type": "code",
   "execution_count": 23,
   "id": "0511a094",
   "metadata": {},
   "outputs": [],
   "source": [
    "myList=[10,20,30,40]"
   ]
  },
  {
   "cell_type": "code",
   "execution_count": 24,
   "id": "ff8de914",
   "metadata": {},
   "outputs": [
    {
     "data": {
      "text/plain": [
       "list"
      ]
     },
     "execution_count": 24,
     "metadata": {},
     "output_type": "execute_result"
    }
   ],
   "source": [
    "type(myList)"
   ]
  },
  {
   "cell_type": "code",
   "execution_count": 25,
   "id": "983cc101",
   "metadata": {},
   "outputs": [
    {
     "data": {
      "text/plain": [
       "20"
      ]
     },
     "execution_count": 25,
     "metadata": {},
     "output_type": "execute_result"
    }
   ],
   "source": [
    "myList[1]"
   ]
  },
  {
   "cell_type": "code",
   "execution_count": 26,
   "id": "8fe5b367",
   "metadata": {},
   "outputs": [],
   "source": [
    "myList[0]=100"
   ]
  },
  {
   "cell_type": "code",
   "execution_count": 27,
   "id": "3e16fadb",
   "metadata": {},
   "outputs": [
    {
     "data": {
      "text/plain": [
       "[100, 20, 30, 40]"
      ]
     },
     "execution_count": 27,
     "metadata": {},
     "output_type": "execute_result"
    }
   ],
   "source": [
    "myList"
   ]
  },
  {
   "cell_type": "code",
   "execution_count": 28,
   "id": "4b947d04",
   "metadata": {},
   "outputs": [],
   "source": [
    "myList.append(50)\n",
    "#eklemek"
   ]
  },
  {
   "cell_type": "code",
   "execution_count": 29,
   "id": "b1d0d9a1",
   "metadata": {},
   "outputs": [
    {
     "data": {
      "text/plain": [
       "[100, 20, 30, 40, 50]"
      ]
     },
     "execution_count": 29,
     "metadata": {},
     "output_type": "execute_result"
    }
   ],
   "source": [
    "myList"
   ]
  },
  {
   "cell_type": "code",
   "execution_count": 30,
   "id": "8e59aa1a",
   "metadata": {},
   "outputs": [
    {
     "data": {
      "text/plain": [
       "50"
      ]
     },
     "execution_count": 30,
     "metadata": {},
     "output_type": "execute_result"
    }
   ],
   "source": [
    "myList.pop()\n",
    "#50yi sildik    son eleman"
   ]
  },
  {
   "cell_type": "code",
   "execution_count": 31,
   "id": "cec6272c",
   "metadata": {},
   "outputs": [
    {
     "data": {
      "text/plain": [
       "[100, 20, 30, 40]"
      ]
     },
     "execution_count": 31,
     "metadata": {},
     "output_type": "execute_result"
    }
   ],
   "source": [
    "myList"
   ]
  },
  {
   "cell_type": "code",
   "execution_count": 32,
   "id": "6e0a7f8e",
   "metadata": {},
   "outputs": [
    {
     "data": {
      "text/plain": [
       "1"
      ]
     },
     "execution_count": 32,
     "metadata": {},
     "output_type": "execute_result"
    }
   ],
   "source": [
    "myList.count(20)\n",
    "#kaç tane 20 var"
   ]
  },
  {
   "cell_type": "code",
   "execution_count": 33,
   "id": "47623927",
   "metadata": {},
   "outputs": [],
   "source": [
    "myStringList=[\"he\",\"ll\",\"oo\"]"
   ]
  },
  {
   "cell_type": "code",
   "execution_count": 34,
   "id": "241093b4",
   "metadata": {},
   "outputs": [
    {
     "data": {
      "text/plain": [
       "'oo'"
      ]
     },
     "execution_count": 34,
     "metadata": {},
     "output_type": "execute_result"
    }
   ],
   "source": [
    "myStringList[2]"
   ]
  },
  {
   "cell_type": "code",
   "execution_count": 35,
   "id": "0fb78f75",
   "metadata": {},
   "outputs": [],
   "source": [
    "mySecondStringList=[\"me\",\"rh\",\"aba\"]"
   ]
  },
  {
   "cell_type": "code",
   "execution_count": 36,
   "id": "efc14b06",
   "metadata": {},
   "outputs": [],
   "source": [
    "toplamListem=mySecondStringList+myStringList"
   ]
  },
  {
   "cell_type": "code",
   "execution_count": 37,
   "id": "0d5c1bb9",
   "metadata": {},
   "outputs": [
    {
     "data": {
      "text/plain": [
       "['me', 'rh', 'aba', 'he', 'll', 'oo']"
      ]
     },
     "execution_count": 37,
     "metadata": {},
     "output_type": "execute_result"
    }
   ],
   "source": [
    "toplamListem\n"
   ]
  },
  {
   "cell_type": "code",
   "execution_count": 40,
   "id": "61dfd8f5",
   "metadata": {},
   "outputs": [
    {
     "data": {
      "text/plain": [
       "['me', 'rh', 'aba', 'he', 'll', 'oo', 'me', 'rh', 'aba', 'he', 'll', 'oo']"
      ]
     },
     "execution_count": 40,
     "metadata": {},
     "output_type": "execute_result"
    }
   ],
   "source": [
    "toplamListem*2"
   ]
  },
  {
   "cell_type": "code",
   "execution_count": 41,
   "id": "bbeea3fd",
   "metadata": {},
   "outputs": [],
   "source": [
    "toplamListem.reverse()"
   ]
  },
  {
   "cell_type": "code",
   "execution_count": 42,
   "id": "8374eb40",
   "metadata": {},
   "outputs": [
    {
     "data": {
      "text/plain": [
       "['oo', 'll', 'he', 'aba', 'rh', 'me']"
      ]
     },
     "execution_count": 42,
     "metadata": {},
     "output_type": "execute_result"
    }
   ],
   "source": [
    "toplamListem"
   ]
  },
  {
   "cell_type": "code",
   "execution_count": 1,
   "id": "62e02cde",
   "metadata": {},
   "outputs": [],
   "source": [
    "karisikListe=[1,2,3.5,\"Dogu\"]"
   ]
  },
  {
   "cell_type": "code",
   "execution_count": 2,
   "id": "b9ff73e7",
   "metadata": {},
   "outputs": [
    {
     "data": {
      "text/plain": [
       "list"
      ]
     },
     "execution_count": 2,
     "metadata": {},
     "output_type": "execute_result"
    }
   ],
   "source": [
    "type(karisikListe)"
   ]
  },
  {
   "cell_type": "code",
   "execution_count": 21,
   "id": "628cfd5f",
   "metadata": {},
   "outputs": [],
   "source": [
    "nestedListed=[1,7,[5,\"z\",1,7],20,30]\n",
    "#3.uncu parametre listtir."
   ]
  },
  {
   "cell_type": "code",
   "execution_count": 22,
   "id": "397b6ee3",
   "metadata": {},
   "outputs": [
    {
     "data": {
      "text/plain": [
       "[1, 7, [5, 'z', 1, 7], 20, 30]"
      ]
     },
     "execution_count": 22,
     "metadata": {},
     "output_type": "execute_result"
    }
   ],
   "source": [
    "nestedListed"
   ]
  },
  {
   "cell_type": "code",
   "execution_count": 23,
   "id": "4ea62588",
   "metadata": {},
   "outputs": [
    {
     "data": {
      "text/plain": [
       "'z'"
      ]
     },
     "execution_count": 23,
     "metadata": {},
     "output_type": "execute_result"
    }
   ],
   "source": [
    "ZyeUlas=nestedListed[2][1]\n",
    "ZyeUlas\n",
    "#[][][]............ uzayabilir erişmek için."
   ]
  },
  {
   "cell_type": "code",
   "execution_count": null,
   "id": "da7571c8",
   "metadata": {},
   "outputs": [],
   "source": []
  }
 ],
 "metadata": {
  "kernelspec": {
   "display_name": "Python 3",
   "language": "python",
   "name": "python3"
  },
  "language_info": {
   "codemirror_mode": {
    "name": "ipython",
    "version": 3
   },
   "file_extension": ".py",
   "mimetype": "text/x-python",
   "name": "python",
   "nbconvert_exporter": "python",
   "pygments_lexer": "ipython3",
   "version": "3.8.8"
  }
 },
 "nbformat": 4,
 "nbformat_minor": 5
}
