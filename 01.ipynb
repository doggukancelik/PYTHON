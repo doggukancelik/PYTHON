{
 "cells": [
  {
   "cell_type": "markdown",
   "id": "408666f2",
   "metadata": {},
   "source": [
    "# Python 01"
   ]
  },
  {
   "cell_type": "markdown",
   "id": "085467f9",
   "metadata": {},
   "source": [
    "Variables"
   ]
  },
  {
   "cell_type": "code",
   "execution_count": 62,
   "id": "d7edf596",
   "metadata": {},
   "outputs": [],
   "source": [
    "x=5"
   ]
  },
  {
   "cell_type": "code",
   "execution_count": 63,
   "id": "738b8be8",
   "metadata": {},
   "outputs": [],
   "source": [
    "y=4"
   ]
  },
  {
   "cell_type": "code",
   "execution_count": 64,
   "id": "0fb0c61b",
   "metadata": {},
   "outputs": [
    {
     "data": {
      "text/plain": [
       "20"
      ]
     },
     "execution_count": 64,
     "metadata": {},
     "output_type": "execute_result"
    }
   ],
   "source": [
    "x*y"
   ]
  },
  {
   "cell_type": "code",
   "execution_count": 65,
   "id": "2d1702c6",
   "metadata": {},
   "outputs": [],
   "source": [
    "x=6"
   ]
  },
  {
   "cell_type": "code",
   "execution_count": 66,
   "id": "d7f08e66",
   "metadata": {},
   "outputs": [
    {
     "data": {
      "text/plain": [
       "24"
      ]
     },
     "execution_count": 66,
     "metadata": {},
     "output_type": "execute_result"
    }
   ],
   "source": [
    "x*y\n"
   ]
  },
  {
   "cell_type": "code",
   "execution_count": 67,
   "id": "006806a1",
   "metadata": {},
   "outputs": [
    {
     "data": {
      "text/plain": [
       "6"
      ]
     },
     "execution_count": 67,
     "metadata": {},
     "output_type": "execute_result"
    }
   ],
   "source": [
    "x\n"
   ]
  },
  {
   "cell_type": "code",
   "execution_count": 68,
   "id": "8ed394fd",
   "metadata": {},
   "outputs": [],
   "source": [
    "myVariable=10\n",
    "myOtherVariable=20"
   ]
  },
  {
   "cell_type": "code",
   "execution_count": 69,
   "id": "115a93cb",
   "metadata": {},
   "outputs": [
    {
     "data": {
      "text/plain": [
       "30"
      ]
     },
     "execution_count": 69,
     "metadata": {},
     "output_type": "execute_result"
    }
   ],
   "source": [
    "myVariable+myOtherVariable"
   ]
  },
  {
   "cell_type": "code",
   "execution_count": 70,
   "id": "29a04c7e",
   "metadata": {},
   "outputs": [
    {
     "data": {
      "text/plain": [
       "int"
      ]
     },
     "execution_count": 70,
     "metadata": {},
     "output_type": "execute_result"
    }
   ],
   "source": [
    "type(myVariable)"
   ]
  },
  {
   "cell_type": "code",
   "execution_count": 71,
   "id": "84ad5e4f",
   "metadata": {},
   "outputs": [],
   "source": [
    "result=myOtherVariable/myVariable"
   ]
  },
  {
   "cell_type": "code",
   "execution_count": 72,
   "id": "f2c698a3",
   "metadata": {},
   "outputs": [
    {
     "data": {
      "text/plain": [
       "2.0"
      ]
     },
     "execution_count": 72,
     "metadata": {},
     "output_type": "execute_result"
    }
   ],
   "source": [
    "result"
   ]
  },
  {
   "cell_type": "code",
   "execution_count": 73,
   "id": "2ce5390e",
   "metadata": {},
   "outputs": [
    {
     "data": {
      "text/plain": [
       "float"
      ]
     },
     "execution_count": 73,
     "metadata": {},
     "output_type": "execute_result"
    }
   ],
   "source": [
    "type(result)"
   ]
  },
  {
   "cell_type": "markdown",
   "id": "19ab2db3",
   "metadata": {},
   "source": [
    "Mathematical operations"
   ]
  },
  {
   "cell_type": "code",
   "execution_count": 74,
   "id": "6e6db1da",
   "metadata": {},
   "outputs": [],
   "source": [
    "x=5\n",
    "y=3"
   ]
  },
  {
   "cell_type": "code",
   "execution_count": 75,
   "id": "a33caee2",
   "metadata": {},
   "outputs": [
    {
     "data": {
      "text/plain": [
       "150"
      ]
     },
     "execution_count": 75,
     "metadata": {},
     "output_type": "execute_result"
    }
   ],
   "source": [
    "x*y*10"
   ]
  },
  {
   "cell_type": "code",
   "execution_count": 76,
   "id": "9bae4405",
   "metadata": {},
   "outputs": [
    {
     "data": {
      "text/plain": [
       "625"
      ]
     },
     "execution_count": 76,
     "metadata": {},
     "output_type": "execute_result"
    }
   ],
   "source": [
    "x*x*x*x   "
   ]
  },
  {
   "cell_type": "code",
   "execution_count": 77,
   "id": "03668172",
   "metadata": {},
   "outputs": [
    {
     "data": {
      "text/plain": [
       "625"
      ]
     },
     "execution_count": 77,
     "metadata": {},
     "output_type": "execute_result"
    }
   ],
   "source": [
    "x**4        \n",
    "#üstü alma"
   ]
  },
  {
   "cell_type": "code",
   "execution_count": 78,
   "id": "2090b9c5",
   "metadata": {},
   "outputs": [
    {
     "data": {
      "text/plain": [
       "1"
      ]
     },
     "execution_count": 78,
     "metadata": {},
     "output_type": "execute_result"
    }
   ],
   "source": [
    "11%2          \n",
    "#kalanı bulma"
   ]
  },
  {
   "cell_type": "code",
   "execution_count": 79,
   "id": "36d5199c",
   "metadata": {},
   "outputs": [
    {
     "name": "stdout",
     "output_type": "stream",
     "text": [
      "ENTER YOUR AGE20\n"
     ]
    }
   ],
   "source": [
    "age=input(\"ENTER YOUR AGE\") \n",
    "#input alma"
   ]
  },
  {
   "cell_type": "code",
   "execution_count": 80,
   "id": "ee85b9aa",
   "metadata": {
    "scrolled": true
   },
   "outputs": [
    {
     "data": {
      "text/plain": [
       "'20'"
      ]
     },
     "execution_count": 80,
     "metadata": {},
     "output_type": "execute_result"
    }
   ],
   "source": [
    "age "
   ]
  },
  {
   "cell_type": "code",
   "execution_count": 81,
   "id": "d3baf709",
   "metadata": {},
   "outputs": [
    {
     "data": {
      "text/plain": [
       "str"
      ]
     },
     "execution_count": 81,
     "metadata": {},
     "output_type": "execute_result"
    }
   ],
   "source": [
    "type(age)"
   ]
  },
  {
   "cell_type": "code",
   "execution_count": 82,
   "id": "1681f0cd",
   "metadata": {},
   "outputs": [
    {
     "data": {
      "text/plain": [
       "'2020202020'"
      ]
     },
     "execution_count": 82,
     "metadata": {},
     "output_type": "execute_result"
    }
   ],
   "source": [
    "age*5"
   ]
  },
  {
   "cell_type": "markdown",
   "id": "e17c54ac",
   "metadata": {},
   "source": [
    "# String"
   ]
  },
  {
   "cell_type": "code",
   "execution_count": 83,
   "id": "f1847bdf",
   "metadata": {},
   "outputs": [],
   "source": [
    "a=\"hello world\" "
   ]
  },
  {
   "cell_type": "code",
   "execution_count": 84,
   "id": "8b33ee19",
   "metadata": {},
   "outputs": [
    {
     "data": {
      "text/plain": [
       "'Hello world'"
      ]
     },
     "execution_count": 84,
     "metadata": {},
     "output_type": "execute_result"
    }
   ],
   "source": [
    "a.capitalize()"
   ]
  },
  {
   "cell_type": "code",
   "execution_count": 85,
   "id": "92d26559",
   "metadata": {},
   "outputs": [],
   "source": [
    "myAge=int(age)"
   ]
  },
  {
   "cell_type": "code",
   "execution_count": 86,
   "id": "b0324788",
   "metadata": {},
   "outputs": [
    {
     "data": {
      "text/plain": [
       "20"
      ]
     },
     "execution_count": 86,
     "metadata": {},
     "output_type": "execute_result"
    }
   ],
   "source": [
    "myAge"
   ]
  },
  {
   "cell_type": "code",
   "execution_count": 87,
   "id": "7fcebfc1",
   "metadata": {},
   "outputs": [],
   "source": [
    "q=\"Celik\""
   ]
  },
  {
   "cell_type": "code",
   "execution_count": 88,
   "id": "70cbbfb0",
   "metadata": {},
   "outputs": [
    {
     "data": {
      "text/plain": [
       "5"
      ]
     },
     "execution_count": 88,
     "metadata": {},
     "output_type": "execute_result"
    }
   ],
   "source": [
    "len(q)      #lens"
   ]
  },
  {
   "cell_type": "code",
   "execution_count": 89,
   "id": "4b355a47",
   "metadata": {},
   "outputs": [
    {
     "name": "stdout",
     "output_type": "stream",
     "text": [
      "hi\n",
      "pyhton\n"
     ]
    }
   ],
   "source": [
    "print(\"hi\\npyhton\")"
   ]
  },
  {
   "cell_type": "code",
   "execution_count": 103,
   "id": "77d55fba",
   "metadata": {},
   "outputs": [],
   "source": [
    "nameString=\"dogukanCelik\""
   ]
  },
  {
   "cell_type": "markdown",
   "id": "077b1061",
   "metadata": {},
   "source": [
    "                Index"
   ]
  },
  {
   "cell_type": "code",
   "execution_count": 104,
   "id": "9a3f7fdd",
   "metadata": {},
   "outputs": [
    {
     "data": {
      "text/plain": [
       "'d'"
      ]
     },
     "execution_count": 104,
     "metadata": {},
     "output_type": "execute_result"
    }
   ],
   "source": [
    "nameString[0]          \n",
    "# 0'dan başlar."
   ]
  },
  {
   "cell_type": "code",
   "execution_count": 105,
   "id": "6477e6a3",
   "metadata": {},
   "outputs": [
    {
     "data": {
      "text/plain": [
       "'a'"
      ]
     },
     "execution_count": 105,
     "metadata": {},
     "output_type": "execute_result"
    }
   ],
   "source": [
    "nameString[5]"
   ]
  },
  {
   "cell_type": "code",
   "execution_count": 106,
   "id": "290f0063",
   "metadata": {},
   "outputs": [
    {
     "data": {
      "text/plain": [
       "'k'"
      ]
     },
     "execution_count": 106,
     "metadata": {},
     "output_type": "execute_result"
    }
   ],
   "source": [
    "nameString[-1]"
   ]
  },
  {
   "cell_type": "code",
   "execution_count": 107,
   "id": "b9e84b6f",
   "metadata": {},
   "outputs": [
    {
     "data": {
      "text/plain": [
       "'i'"
      ]
     },
     "execution_count": 107,
     "metadata": {},
     "output_type": "execute_result"
    }
   ],
   "source": [
    "nameString[-2]"
   ]
  },
  {
   "cell_type": "markdown",
   "id": "64bc5cc3",
   "metadata": {},
   "source": [
    "slicing"
   ]
  },
  {
   "cell_type": "code",
   "execution_count": 108,
   "id": "c7acd727",
   "metadata": {},
   "outputs": [],
   "source": [
    "newString=\"0587123456789\""
   ]
  },
  {
   "cell_type": "code",
   "execution_count": 109,
   "id": "4d2bbbd4",
   "metadata": {},
   "outputs": [
    {
     "data": {
      "text/plain": [
       "'87123456789'"
      ]
     },
     "execution_count": 109,
     "metadata": {},
     "output_type": "execute_result"
    }
   ],
   "source": [
    "newString[2:]"
   ]
  },
  {
   "cell_type": "code",
   "execution_count": 110,
   "id": "353d204f",
   "metadata": {},
   "outputs": [],
   "source": [
    "harfString=\"abcdefgh\""
   ]
  },
  {
   "cell_type": "code",
   "execution_count": 111,
   "id": "38089a11",
   "metadata": {},
   "outputs": [
    {
     "data": {
      "text/plain": [
       "'defgh'"
      ]
     },
     "execution_count": 111,
     "metadata": {},
     "output_type": "execute_result"
    }
   ],
   "source": [
    "harfString[3:]    \n",
    "#3. elemandan sonrakileri yazar"
   ]
  },
  {
   "cell_type": "code",
   "execution_count": 112,
   "id": "85bf502a",
   "metadata": {},
   "outputs": [
    {
     "data": {
      "text/plain": [
       "'abc'"
      ]
     },
     "execution_count": 112,
     "metadata": {},
     "output_type": "execute_result"
    }
   ],
   "source": [
    "harfString[:3]"
   ]
  },
  {
   "cell_type": "raw",
   "id": "58aa8d98",
   "metadata": {},
   "source": [
    "harfString[2:4]"
   ]
  },
  {
   "cell_type": "code",
   "execution_count": 113,
   "id": "327e71a5",
   "metadata": {},
   "outputs": [
    {
     "data": {
      "text/plain": [
       "'bd'"
      ]
     },
     "execution_count": 113,
     "metadata": {},
     "output_type": "execute_result"
    }
   ],
   "source": [
    "harfString[1:5:2]"
   ]
  },
  {
   "cell_type": "code",
   "execution_count": 114,
   "id": "7a1535f8",
   "metadata": {},
   "outputs": [
    {
     "data": {
      "text/plain": [
       "'hgfedcba'"
      ]
     },
     "execution_count": 114,
     "metadata": {},
     "output_type": "execute_result"
    }
   ],
   "source": [
    "harfString[::-1]"
   ]
  },
  {
   "cell_type": "code",
   "execution_count": 117,
   "id": "96163300",
   "metadata": {},
   "outputs": [],
   "source": [
    "newName=nameString.capitalize()"
   ]
  },
  {
   "cell_type": "code",
   "execution_count": 119,
   "id": "ef3eca16",
   "metadata": {},
   "outputs": [
    {
     "data": {
      "text/plain": [
       "'Dogukancelik'"
      ]
     },
     "execution_count": 119,
     "metadata": {},
     "output_type": "execute_result"
    }
   ],
   "source": [
    "newName\n"
   ]
  },
  {
   "cell_type": "code",
   "execution_count": 120,
   "id": "616fc652",
   "metadata": {},
   "outputs": [],
   "source": [
    "name=\"Dogukan Çelik\""
   ]
  },
  {
   "cell_type": "code",
   "execution_count": 121,
   "id": "9432618d",
   "metadata": {},
   "outputs": [
    {
     "data": {
      "text/plain": [
       "['Dogukan', 'Çelik']"
      ]
     },
     "execution_count": 121,
     "metadata": {},
     "output_type": "execute_result"
    }
   ],
   "source": [
    "name.split()"
   ]
  },
  {
   "cell_type": "code",
   "execution_count": 122,
   "id": "971fc7b1",
   "metadata": {},
   "outputs": [
    {
     "data": {
      "text/plain": [
       "'DOGUKAN ÇELIK'"
      ]
     },
     "execution_count": 122,
     "metadata": {},
     "output_type": "execute_result"
    }
   ],
   "source": [
    "name.upper()"
   ]
  },
  {
   "cell_type": "code",
   "execution_count": 123,
   "id": "2f44f03d",
   "metadata": {},
   "outputs": [
    {
     "data": {
      "text/plain": [
       "'dogukan çelik'"
      ]
     },
     "execution_count": 123,
     "metadata": {},
     "output_type": "execute_result"
    }
   ],
   "source": [
    "name.lower()"
   ]
  },
  {
   "cell_type": "code",
   "execution_count": null,
   "id": "a22a4005",
   "metadata": {},
   "outputs": [],
   "source": []
  }
 ],
 "metadata": {
  "kernelspec": {
   "display_name": "Python 3",
   "language": "python",
   "name": "python3"
  },
  "language_info": {
   "codemirror_mode": {
    "name": "ipython",
    "version": 3
   },
   "file_extension": ".py",
   "mimetype": "text/x-python",
   "name": "python",
   "nbconvert_exporter": "python",
   "pygments_lexer": "ipython3",
   "version": "3.8.8"
  }
 },
 "nbformat": 4,
 "nbformat_minor": 5
}
