{
 "cells": [
  {
   "cell_type": "code",
   "execution_count": 2,
   "id": "59e76081",
   "metadata": {},
   "outputs": [
    {
     "data": {
      "text/plain": [
       "1"
      ]
     },
     "execution_count": 2,
     "metadata": {},
     "output_type": "execute_result"
    }
   ],
   "source": [
    "benimListem=[1,2,3]\n",
    "benimListem[0]"
   ]
  },
  {
   "cell_type": "markdown",
   "id": "70a635b9",
   "metadata": {},
   "source": [
    "key-value pairing"
   ]
  },
  {
   "cell_type": "code",
   "execution_count": 3,
   "id": "59720b82",
   "metadata": {},
   "outputs": [],
   "source": [
    "benimYemeklerim=[\"elma\",\"karpuz\",\"muz\"]\n",
    "benimKalorilerim=[100,200,300]"
   ]
  },
  {
   "cell_type": "code",
   "execution_count": 5,
   "id": "c8eea932",
   "metadata": {},
   "outputs": [],
   "source": [
    "sozlukYapisi={\"anahtarKelime\":\"deger\"}"
   ]
  },
  {
   "cell_type": "code",
   "execution_count": 6,
   "id": "5c67e02b",
   "metadata": {},
   "outputs": [
    {
     "data": {
      "text/plain": [
       "100"
      ]
     },
     "execution_count": 6,
     "metadata": {},
     "output_type": "execute_result"
    }
   ],
   "source": [
    "myDictionary={\"elma\":100,\"karpuz\":200}\n",
    "myDictionary[\"elma\"]"
   ]
  },
  {
   "cell_type": "code",
   "execution_count": 7,
   "id": "c58151bb",
   "metadata": {},
   "outputs": [
    {
     "data": {
      "text/plain": [
       "{'elma': 400, 'karpuz': 200}"
      ]
     },
     "execution_count": 7,
     "metadata": {},
     "output_type": "execute_result"
    }
   ],
   "source": [
    "myDictionary[\"elma\"]=400\n",
    "myDictionary"
   ]
  },
  {
   "cell_type": "code",
   "execution_count": 8,
   "id": "9e588092",
   "metadata": {},
   "outputs": [
    {
     "data": {
      "text/plain": [
       "{100: 'yüz', 200: 'ikiYuz'}"
      ]
     },
     "execution_count": 8,
     "metadata": {},
     "output_type": "execute_result"
    }
   ],
   "source": [
    "OtherDictionary={100:\"yüz\",200:\"ikiYuz\"}\n",
    "OtherDictionary"
   ]
  },
  {
   "cell_type": "code",
   "execution_count": 17,
   "id": "e03947bb",
   "metadata": {},
   "outputs": [
    {
     "data": {
      "text/plain": [
       "{'anahtar1': 100, 'anahtar2': [10, 20, 30, 'h'], 'anahtar3': {200: 'deger'}}"
      ]
     },
     "execution_count": 17,
     "metadata": {},
     "output_type": "execute_result"
    }
   ],
   "source": [
    "newDictionary={\"anahtar1\":100,\"anahtar2\":[10,20,30,\"h\"],\"anahtar3\":{200:\"deger\"}}\n",
    "newDictionary"
   ]
  },
  {
   "cell_type": "code",
   "execution_count": 18,
   "id": "afa775da",
   "metadata": {},
   "outputs": [
    {
     "data": {
      "text/plain": [
       "dict_keys(['anahtar1', 'anahtar2', 'anahtar3'])"
      ]
     },
     "execution_count": 18,
     "metadata": {},
     "output_type": "execute_result"
    }
   ],
   "source": [
    "newDictionary.keys()"
   ]
  },
  {
   "cell_type": "code",
   "execution_count": 19,
   "id": "67670310",
   "metadata": {},
   "outputs": [
    {
     "data": {
      "text/plain": [
       "dict_values([100, [10, 20, 30, 'h'], {200: 'deger'}])"
      ]
     },
     "execution_count": 19,
     "metadata": {},
     "output_type": "execute_result"
    }
   ],
   "source": [
    "newDictionary.values()"
   ]
  },
  {
   "cell_type": "code",
   "execution_count": 20,
   "id": "25bf91da",
   "metadata": {},
   "outputs": [
    {
     "data": {
      "text/plain": [
       "'h'"
      ]
     },
     "execution_count": 20,
     "metadata": {},
     "output_type": "execute_result"
    }
   ],
   "source": [
    "newDictionary[\"anahtar2\"][-1]"
   ]
  },
  {
   "cell_type": "code",
   "execution_count": 21,
   "id": "c38a59a1",
   "metadata": {},
   "outputs": [
    {
     "data": {
      "text/plain": [
       "'deger'"
      ]
     },
     "execution_count": 21,
     "metadata": {},
     "output_type": "execute_result"
    }
   ],
   "source": [
    "newDictionary[\"anahtar3\"][200]"
   ]
  },
  {
   "cell_type": "markdown",
   "id": "43961cd3",
   "metadata": {},
   "source": [
    "# SET"
   ]
  },
  {
   "cell_type": "code",
   "execution_count": 24,
   "id": "9810fc12",
   "metadata": {},
   "outputs": [
    {
     "data": {
      "text/plain": [
       "1"
      ]
     },
     "execution_count": 24,
     "metadata": {},
     "output_type": "execute_result"
    }
   ],
   "source": [
    "benimListemX=[1,2,1,2,3]\n",
    "benimListemX[0]\n",
    "#tekrarlayan elemanlar vardır listede"
   ]
  },
  {
   "cell_type": "code",
   "execution_count": 26,
   "id": "ec02ec9d",
   "metadata": {},
   "outputs": [
    {
     "data": {
      "text/plain": [
       "{1, 2, 3}"
      ]
     },
     "execution_count": 26,
     "metadata": {},
     "output_type": "execute_result"
    }
   ],
   "source": [
    "benimListeSetim=set(benimListemX)\n",
    "benimListeSetim\n",
    "#setlerde tekrarlanan eleman olmaz"
   ]
  },
  {
   "cell_type": "code",
   "execution_count": 28,
   "id": "8c96731e",
   "metadata": {},
   "outputs": [
    {
     "data": {
      "text/plain": [
       "{'a', 'b', 'c'}"
      ]
     },
     "execution_count": 28,
     "metadata": {},
     "output_type": "execute_result"
    }
   ],
   "source": [
    "benimSet={\"a\",\"b\",\"c\",\"a\"}\n",
    "type(benimSet)\n",
    "benimSet"
   ]
  },
  {
   "cell_type": "code",
   "execution_count": 30,
   "id": "574b6a57",
   "metadata": {},
   "outputs": [],
   "source": [
    "bosSet=set()\n",
    "#set olarak tanımlama yaptık\n",
    "bosList=list()"
   ]
  },
  {
   "cell_type": "markdown",
   "id": "f09373c3",
   "metadata": {},
   "source": [
    "# TUPLE"
   ]
  },
  {
   "cell_type": "code",
   "execution_count": 31,
   "id": "7b493378",
   "metadata": {},
   "outputs": [
    {
     "data": {
      "text/plain": [
       "tuple"
      ]
     },
     "execution_count": 31,
     "metadata": {},
     "output_type": "execute_result"
    }
   ],
   "source": [
    "myTuple=(1,2,\"a\",4.5)\n",
    "type(myTuple)"
   ]
  },
  {
   "cell_type": "code",
   "execution_count": 34,
   "id": "4a92b8ac",
   "metadata": {},
   "outputs": [
    {
     "data": {
      "text/plain": [
       "1"
      ]
     },
     "execution_count": 34,
     "metadata": {},
     "output_type": "execute_result"
    }
   ],
   "source": [
    "myTuple[0]\n"
   ]
  },
  {
   "cell_type": "code",
   "execution_count": 35,
   "id": "d938f8b9",
   "metadata": {},
   "outputs": [
    {
     "data": {
      "text/plain": [
       "'a'"
      ]
     },
     "execution_count": 35,
     "metadata": {},
     "output_type": "execute_result"
    }
   ],
   "source": [
    "myTuple[2]"
   ]
  },
  {
   "cell_type": "code",
   "execution_count": 38,
   "id": "a0705a83",
   "metadata": {},
   "outputs": [],
   "source": [
    "#myTuple[2]=\"x\"    hatadır.\n",
    "#private list olarak düşünebiliriz."
   ]
  },
  {
   "cell_type": "code",
   "execution_count": 39,
   "id": "c371babf",
   "metadata": {},
   "outputs": [
    {
     "data": {
      "text/plain": [
       "1"
      ]
     },
     "execution_count": 39,
     "metadata": {},
     "output_type": "execute_result"
    }
   ],
   "source": [
    "myTuple.count(\"a\")"
   ]
  },
  {
   "cell_type": "code",
   "execution_count": 40,
   "id": "d1705af7",
   "metadata": {},
   "outputs": [
    {
     "data": {
      "text/plain": [
       "3"
      ]
     },
     "execution_count": 40,
     "metadata": {},
     "output_type": "execute_result"
    }
   ],
   "source": [
    "myTuple.index(4.5)"
   ]
  },
  {
   "cell_type": "markdown",
   "id": "14325cc1",
   "metadata": {},
   "source": [
    "# BOOLEAN"
   ]
  },
  {
   "cell_type": "code",
   "execution_count": 41,
   "id": "09372490",
   "metadata": {},
   "outputs": [],
   "source": [
    "myBoolean=True"
   ]
  },
  {
   "cell_type": "code",
   "execution_count": 42,
   "id": "c1c540bc",
   "metadata": {},
   "outputs": [
    {
     "data": {
      "text/plain": [
       "True"
      ]
     },
     "execution_count": 42,
     "metadata": {},
     "output_type": "execute_result"
    }
   ],
   "source": [
    "myBoolean"
   ]
  },
  {
   "cell_type": "code",
   "execution_count": 43,
   "id": "721c2a6c",
   "metadata": {},
   "outputs": [
    {
     "data": {
      "text/plain": [
       "bool"
      ]
     },
     "execution_count": 43,
     "metadata": {},
     "output_type": "execute_result"
    }
   ],
   "source": [
    "type(myBoolean)"
   ]
  },
  {
   "cell_type": "code",
   "execution_count": 44,
   "id": "7f17e465",
   "metadata": {},
   "outputs": [
    {
     "data": {
      "text/plain": [
       "False"
      ]
     },
     "execution_count": 44,
     "metadata": {},
     "output_type": "execute_result"
    }
   ],
   "source": [
    "10<5"
   ]
  },
  {
   "cell_type": "code",
   "execution_count": 45,
   "id": "2ccd3b11",
   "metadata": {},
   "outputs": [],
   "source": [
    "liste=[500,100,600,800]"
   ]
  },
  {
   "cell_type": "code",
   "execution_count": 46,
   "id": "cbc7e843",
   "metadata": {},
   "outputs": [
    {
     "data": {
      "text/plain": [
       "4"
      ]
     },
     "execution_count": 46,
     "metadata": {},
     "output_type": "execute_result"
    }
   ],
   "source": [
    "len(liste)"
   ]
  },
  {
   "cell_type": "code",
   "execution_count": 47,
   "id": "656588b0",
   "metadata": {},
   "outputs": [
    {
     "data": {
      "text/plain": [
       "2000"
      ]
     },
     "execution_count": 47,
     "metadata": {},
     "output_type": "execute_result"
    }
   ],
   "source": [
    "sum(liste)"
   ]
  },
  {
   "cell_type": "code",
   "execution_count": 48,
   "id": "0c5f4cbc",
   "metadata": {},
   "outputs": [
    {
     "data": {
      "text/plain": [
       "500.0"
      ]
     },
     "execution_count": 48,
     "metadata": {},
     "output_type": "execute_result"
    }
   ],
   "source": [
    "ortalama=sum(liste)/len(liste)\n",
    "ortalama"
   ]
  },
  {
   "cell_type": "code",
   "execution_count": 49,
   "id": "a26829b8",
   "metadata": {},
   "outputs": [],
   "source": [
    "x=10\n",
    "y=8"
   ]
  },
  {
   "cell_type": "code",
   "execution_count": 50,
   "id": "b1606320",
   "metadata": {},
   "outputs": [
    {
     "data": {
      "text/plain": [
       "False"
      ]
     },
     "execution_count": 50,
     "metadata": {},
     "output_type": "execute_result"
    }
   ],
   "source": [
    "x<y"
   ]
  },
  {
   "cell_type": "code",
   "execution_count": 51,
   "id": "b7520c6e",
   "metadata": {},
   "outputs": [
    {
     "data": {
      "text/plain": [
       "False"
      ]
     },
     "execution_count": 51,
     "metadata": {},
     "output_type": "execute_result"
    }
   ],
   "source": [
    "x<=y"
   ]
  },
  {
   "cell_type": "code",
   "execution_count": 52,
   "id": "84d73c0e",
   "metadata": {},
   "outputs": [
    {
     "data": {
      "text/plain": [
       "True"
      ]
     },
     "execution_count": 52,
     "metadata": {},
     "output_type": "execute_result"
    }
   ],
   "source": [
    "x!=y"
   ]
  },
  {
   "cell_type": "code",
   "execution_count": 53,
   "id": "ba4f3299",
   "metadata": {},
   "outputs": [
    {
     "data": {
      "text/plain": [
       "False"
      ]
     },
     "execution_count": 53,
     "metadata": {},
     "output_type": "execute_result"
    }
   ],
   "source": [
    "x==y"
   ]
  },
  {
   "cell_type": "code",
   "execution_count": null,
   "id": "45b91186",
   "metadata": {},
   "outputs": [],
   "source": []
  }
 ],
 "metadata": {
  "kernelspec": {
   "display_name": "Python 3",
   "language": "python",
   "name": "python3"
  },
  "language_info": {
   "codemirror_mode": {
    "name": "ipython",
    "version": 3
   },
   "file_extension": ".py",
   "mimetype": "text/x-python",
   "name": "python",
   "nbconvert_exporter": "python",
   "pygments_lexer": "ipython3",
   "version": "3.8.8"
  }
 },
 "nbformat": 4,
 "nbformat_minor": 5
}
