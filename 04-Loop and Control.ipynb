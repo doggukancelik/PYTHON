{
 "cells": [
  {
   "cell_type": "markdown",
   "id": "f4cf2ac6",
   "metadata": {},
   "source": [
    "# if"
   ]
  },
  {
   "cell_type": "code",
   "execution_count": 2,
   "id": "4c00b4d1",
   "metadata": {},
   "outputs": [
    {
     "name": "stdout",
     "output_type": "stream",
     "text": [
      "Dogru\n"
     ]
    }
   ],
   "source": [
    "if 3>1:\n",
    "    print(\"Dogru\")\n",
    "    "
   ]
  },
  {
   "cell_type": "code",
   "execution_count": 7,
   "id": "c80a9436",
   "metadata": {},
   "outputs": [],
   "source": [
    "x=3\n",
    "y=2"
   ]
  },
  {
   "cell_type": "code",
   "execution_count": 8,
   "id": "908b9f80",
   "metadata": {},
   "outputs": [
    {
     "name": "stdout",
     "output_type": "stream",
     "text": [
      "x y'den büyük\n"
     ]
    }
   ],
   "source": [
    "if x>y:\n",
    "    print(\"x y'den büyük\")\n",
    "elif x<y:\n",
    "    print(\"y x'den büyük\")\n",
    "else:\n",
    "    print(\"eşittir\")"
   ]
  },
  {
   "cell_type": "code",
   "execution_count": 9,
   "id": "d1079715",
   "metadata": {},
   "outputs": [
    {
     "name": "stdout",
     "output_type": "stream",
     "text": [
      "Harf eşleşti.\n"
     ]
    }
   ],
   "source": [
    "harf=\"a\"\n",
    "if harf==\"a\":\n",
    "    print(\"Harf eşleşti.\")"
   ]
  },
  {
   "cell_type": "code",
   "execution_count": 12,
   "id": "a1c19e1f",
   "metadata": {},
   "outputs": [
    {
     "name": "stdout",
     "output_type": "stream",
     "text": [
      "yes\n"
     ]
    }
   ],
   "source": [
    "if x>y or harf==\"a\":\n",
    "    print(\"yes\")"
   ]
  },
  {
   "cell_type": "code",
   "execution_count": 15,
   "id": "d5dfbfb1",
   "metadata": {},
   "outputs": [],
   "source": [
    "if x<y and harf==\"a\":\n",
    "    print(\"yes\")"
   ]
  },
  {
   "cell_type": "code",
   "execution_count": 16,
   "id": "a0968c86",
   "metadata": {},
   "outputs": [],
   "source": [
    "karakterCanli=True"
   ]
  },
  {
   "cell_type": "code",
   "execution_count": 17,
   "id": "b9d7cd80",
   "metadata": {},
   "outputs": [
    {
     "name": "stdout",
     "output_type": "stream",
     "text": [
      "karakter hayatta\n"
     ]
    }
   ],
   "source": [
    "if karakterCanli==True:\n",
    "    print(\"karakter hayatta\")\n",
    "    "
   ]
  },
  {
   "cell_type": "code",
   "execution_count": 21,
   "id": "547bcdf8",
   "metadata": {},
   "outputs": [
    {
     "name": "stdout",
     "output_type": "stream",
     "text": [
      "karakter hayatta\n"
     ]
    }
   ],
   "source": [
    "#not\n",
    "if not karakterCanli==False:\n",
    "    print(\"karakter hayatta\")\n",
    "    "
   ]
  },
  {
   "cell_type": "code",
   "execution_count": 22,
   "id": "a7c16d94",
   "metadata": {},
   "outputs": [
    {
     "name": "stdout",
     "output_type": "stream",
     "text": [
      "var\n"
     ]
    }
   ],
   "source": [
    "# in \n",
    "\n",
    "myString=\"Dogukan Celik\"\n",
    "\n",
    "if \"ogukan\" in myString:\n",
    "    print(\"var\")\n",
    "else:\n",
    "    print(\"yok\")"
   ]
  },
  {
   "cell_type": "markdown",
   "id": "31ce3080",
   "metadata": {},
   "source": [
    "# for"
   ]
  },
  {
   "cell_type": "code",
   "execution_count": 27,
   "id": "a8eb1a6e",
   "metadata": {},
   "outputs": [
    {
     "name": "stdout",
     "output_type": "stream",
     "text": [
      "5.0\n",
      "12.5\n",
      "16.5\n",
      "20.0\n",
      "25.0\n",
      "30.0\n",
      "38.5\n",
      "41.5\n",
      "450.0\n"
     ]
    }
   ],
   "source": [
    "AnewList=[10,25,33,40,50,60,77,83,900]\n",
    "\n",
    "for numara in AnewList:\n",
    "    print(numara/2)"
   ]
  },
  {
   "cell_type": "code",
   "execution_count": 29,
   "id": "1110fb01",
   "metadata": {},
   "outputs": [
    {
     "name": "stdout",
     "output_type": "stream",
     "text": [
      "10\n",
      "40\n",
      "50\n",
      "60\n",
      "900\n"
     ]
    }
   ],
   "source": [
    "for sayi in AnewList:\n",
    "    if sayi%2==0:\n",
    "        print(sayi)\n"
   ]
  },
  {
   "cell_type": "code",
   "execution_count": 30,
   "id": "c0cb8c1b",
   "metadata": {},
   "outputs": [
    {
     "name": "stdout",
     "output_type": "stream",
     "text": [
      "D\n",
      "o\n",
      "g\n",
      "u\n",
      "k\n",
      "a\n",
      "n\n",
      " \n",
      "C\n",
      "e\n",
      "l\n",
      "i\n",
      "k\n"
     ]
    }
   ],
   "source": [
    "for harf in myString:\n",
    "    print(harf)"
   ]
  },
  {
   "cell_type": "code",
   "execution_count": 31,
   "id": "9fc92166",
   "metadata": {},
   "outputs": [
    {
     "name": "stdout",
     "output_type": "stream",
     "text": [
      "(10.2, 15.2)\n",
      "(32.4, 16, 2)\n",
      "(80.5, 40.8)\n"
     ]
    }
   ],
   "source": [
    "koordinatListesi=[(10.2,15.2),(32.4,16,2),(80.5,40.8)]\n",
    "for eleman in koordinatListesi:\n",
    "    print(eleman)"
   ]
  },
  {
   "cell_type": "code",
   "execution_count": 32,
   "id": "9ff73fed",
   "metadata": {},
   "outputs": [
    {
     "name": "stdout",
     "output_type": "stream",
     "text": [
      "10.2\n",
      "32.4\n",
      "80.5\n"
     ]
    }
   ],
   "source": [
    "koordinatListesi=[(10.2,15.2),(32.4,16,2),(80.5,40.8)]\n",
    "for eleman in koordinatListesi:\n",
    "    print(eleman[0])"
   ]
  },
  {
   "cell_type": "code",
   "execution_count": 40,
   "id": "fbf22d23",
   "metadata": {},
   "outputs": [
    {
     "name": "stdout",
     "output_type": "stream",
     "text": [
      "('muz', 100)\n",
      "('elma', 200)\n",
      "muz\n",
      "elma\n"
     ]
    }
   ],
   "source": [
    "myDic={\"muz\":100,\"elma\":200}\n",
    "for items in myDic.items():\n",
    "    print(items)\n",
    "for items in myDic.items():\n",
    "    print(items[0])"
   ]
  },
  {
   "cell_type": "markdown",
   "id": "554cc795",
   "metadata": {},
   "source": [
    "# contiune-break"
   ]
  },
  {
   "cell_type": "code",
   "execution_count": 41,
   "id": "cea211d1",
   "metadata": {},
   "outputs": [
    {
     "name": "stdout",
     "output_type": "stream",
     "text": [
      "5\n",
      "10\n"
     ]
    }
   ],
   "source": [
    "myOtherList=[5,10,15,20,25,30]\n",
    "\n",
    "for sayim in myOtherList:\n",
    "    if sayim==15:\n",
    "        break\n",
    "    print(sayim)\n",
    "# 15 de döngü kırıldı"
   ]
  },
  {
   "cell_type": "code",
   "execution_count": 43,
   "id": "2b0325ac",
   "metadata": {},
   "outputs": [
    {
     "name": "stdout",
     "output_type": "stream",
     "text": [
      "5\n",
      "10\n",
      "20\n",
      "25\n",
      "30\n"
     ]
    }
   ],
   "source": [
    "myOtherList=[5,10,15,20,25,30]\n",
    "\n",
    "for sayim in myOtherList:\n",
    "    if sayim==15:\n",
    "        continue\n",
    "    print(sayim)\n",
    "# 15 de aşağı satırı bıraktık ,yeniden döngüye başladık"
   ]
  },
  {
   "cell_type": "code",
   "execution_count": 45,
   "id": "6a364685",
   "metadata": {},
   "outputs": [],
   "source": [
    "for sayim in myOtherList:\n",
    "    pass\n",
    "#kodu şimdilik pas geç , sonra doldurabilirsin"
   ]
  },
  {
   "cell_type": "markdown",
   "id": "0c2c41c7",
   "metadata": {},
   "source": [
    "# while"
   ]
  },
  {
   "cell_type": "code",
   "execution_count": 47,
   "id": "ed988d11",
   "metadata": {},
   "outputs": [
    {
     "name": "stdout",
     "output_type": "stream",
     "text": [
      "0\n",
      "1\n",
      "2\n",
      "3\n",
      "4\n",
      "5\n",
      "6\n",
      "7\n",
      "8\n",
      "9\n"
     ]
    }
   ],
   "source": [
    "x=0\n",
    "while x<10:\n",
    "    print(x)\n",
    "    x=x+1"
   ]
  },
  {
   "cell_type": "code",
   "execution_count": 3,
   "id": "287cdc36",
   "metadata": {},
   "outputs": [
    {
     "name": "stdout",
     "output_type": "stream",
     "text": [
      "3 Listede\n",
      "3 Listede\n",
      "3 Listede\n"
     ]
    }
   ],
   "source": [
    "myListY=[1,2,3,4,5]\n",
    "\n",
    "while 3 in myListY:\n",
    "    print(\"3 Listede\")\n",
    "    myListY.pop()"
   ]
  },
  {
   "cell_type": "code",
   "execution_count": 4,
   "id": "4d8ec48a",
   "metadata": {},
   "outputs": [],
   "source": [
    "newVeriable=0"
   ]
  },
  {
   "cell_type": "code",
   "execution_count": 6,
   "id": "47fc4a6a",
   "metadata": {},
   "outputs": [
    {
     "name": "stdout",
     "output_type": "stream",
     "text": [
      "Güncel deger: 0\n",
      "Güncel deger: 1\n",
      "Güncel deger: 2\n",
      "Güncel deger: 3\n",
      "Güncel deger: 4\n",
      "Güncel deger: 5\n",
      "Güncel deger: 6\n",
      "Güncel deger: 7\n",
      "Güncel deger: 8\n",
      "Güncel deger: 9\n",
      "Güncel deger: 10\n",
      "Güncel deger: 11\n",
      "Güncel deger: 12\n",
      "Güncel deger: 13\n",
      "Güncel deger: 14\n"
     ]
    }
   ],
   "source": [
    "while newVeriable <15:\n",
    "    print(\"Güncel deger: \"+ str(newVeriable))\n",
    "    newVeriable=newVeriable+1"
   ]
  },
  {
   "cell_type": "code",
   "execution_count": null,
   "id": "8c2ba3df",
   "metadata": {},
   "outputs": [],
   "source": []
  }
 ],
 "metadata": {
  "kernelspec": {
   "display_name": "Python 3",
   "language": "python",
   "name": "python3"
  },
  "language_info": {
   "codemirror_mode": {
    "name": "ipython",
    "version": 3
   },
   "file_extension": ".py",
   "mimetype": "text/x-python",
   "name": "python",
   "nbconvert_exporter": "python",
   "pygments_lexer": "ipython3",
   "version": "3.8.8"
  }
 },
 "nbformat": 4,
 "nbformat_minor": 5
}
