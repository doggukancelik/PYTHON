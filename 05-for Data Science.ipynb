{
 "cells": [
  {
   "cell_type": "markdown",
   "id": "2e592717",
   "metadata": {},
   "source": [
    "# range"
   ]
  },
  {
   "cell_type": "code",
   "execution_count": 1,
   "id": "2d0873b4",
   "metadata": {},
   "outputs": [
    {
     "data": {
      "text/plain": [
       "range(0, 15)"
      ]
     },
     "execution_count": 1,
     "metadata": {},
     "output_type": "execute_result"
    }
   ],
   "source": [
    "range(15)"
   ]
  },
  {
   "cell_type": "code",
   "execution_count": 2,
   "id": "a4caa83f",
   "metadata": {},
   "outputs": [
    {
     "data": {
      "text/plain": [
       "[0, 1, 2, 3, 4, 5, 6, 7, 8, 9, 10, 11, 12, 13, 14]"
      ]
     },
     "execution_count": 2,
     "metadata": {},
     "output_type": "execute_result"
    }
   ],
   "source": [
    "list(range(15))"
   ]
  },
  {
   "cell_type": "code",
   "execution_count": 3,
   "id": "0c2de171",
   "metadata": {},
   "outputs": [
    {
     "data": {
      "text/plain": [
       "[2, 5, 8, 11, 14, 17, 20]"
      ]
     },
     "execution_count": 3,
     "metadata": {},
     "output_type": "execute_result"
    }
   ],
   "source": [
    "list(range(2,21,3))"
   ]
  },
  {
   "cell_type": "markdown",
   "id": "7a6bff10",
   "metadata": {},
   "source": [
    "# enumerate"
   ]
  },
  {
   "cell_type": "code",
   "execution_count": 7,
   "id": "80bd0bd3",
   "metadata": {},
   "outputs": [
    {
     "name": "stdout",
     "output_type": "stream",
     "text": [
      "güncel no: 5 güncel indeks: 0\n",
      "güncel no: 6 güncel indeks: 1\n",
      "güncel no: 7 güncel indeks: 2\n",
      "güncel no: 8 güncel indeks: 3\n",
      "güncel no: 9 güncel indeks: 4\n",
      "güncel no: 10 güncel indeks: 5\n",
      "güncel no: 11 güncel indeks: 6\n",
      "güncel no: 12 güncel indeks: 7\n",
      "güncel no: 13 güncel indeks: 8\n",
      "güncel no: 14 güncel indeks: 9\n"
     ]
    }
   ],
   "source": [
    "index=0\n",
    "for numara in list(range(5,15)):\n",
    "    print(f\"güncel no: {numara} güncel indeks: {index}\")\n",
    "    index=index+1"
   ]
  },
  {
   "cell_type": "code",
   "execution_count": 9,
   "id": "23cf8463",
   "metadata": {},
   "outputs": [
    {
     "name": "stdout",
     "output_type": "stream",
     "text": [
      "(0, 5)\n",
      "(1, 6)\n",
      "(2, 7)\n",
      "(3, 8)\n",
      "(4, 9)\n",
      "(5, 10)\n",
      "(6, 11)\n",
      "(7, 12)\n",
      "(8, 13)\n",
      "(9, 14)\n"
     ]
    }
   ],
   "source": [
    "for eleman in enumerate(list(range(5,15))):\n",
    "    print(eleman)\n",
    "    \n",
    "#tuple gibi oldu"
   ]
  },
  {
   "cell_type": "markdown",
   "id": "74209280",
   "metadata": {},
   "source": [
    "# random"
   ]
  },
  {
   "cell_type": "code",
   "execution_count": 12,
   "id": "7ea04acb",
   "metadata": {},
   "outputs": [],
   "source": [
    "from random import randint\n",
    "#kütüphane tanımladık"
   ]
  },
  {
   "cell_type": "code",
   "execution_count": 24,
   "id": "f222a81f",
   "metadata": {},
   "outputs": [
    {
     "data": {
      "text/plain": [
       "[0, 1, 2, 3, 4, 5, 6, 7, 8, 9]"
      ]
     },
     "execution_count": 24,
     "metadata": {},
     "output_type": "execute_result"
    }
   ],
   "source": [
    "randint(0,100)\n",
    "newListx=list(range(0,10))\n",
    "newListx"
   ]
  },
  {
   "cell_type": "code",
   "execution_count": 25,
   "id": "905583e8",
   "metadata": {},
   "outputs": [],
   "source": [
    "from random import shuffle"
   ]
  },
  {
   "cell_type": "code",
   "execution_count": 26,
   "id": "32a47319",
   "metadata": {},
   "outputs": [],
   "source": [
    "shuffle(newListx)"
   ]
  },
  {
   "cell_type": "code",
   "execution_count": 27,
   "id": "d38acdc2",
   "metadata": {},
   "outputs": [
    {
     "data": {
      "text/plain": [
       "[8, 4, 5, 1, 3, 7, 2, 9, 0, 6]"
      ]
     },
     "execution_count": 27,
     "metadata": {},
     "output_type": "execute_result"
    }
   ],
   "source": [
    "newListx"
   ]
  },
  {
   "cell_type": "markdown",
   "id": "1c079e79",
   "metadata": {},
   "source": [
    "# zip"
   ]
  },
  {
   "cell_type": "code",
   "execution_count": 29,
   "id": "78bc4d69",
   "metadata": {},
   "outputs": [],
   "source": [
    "foodList=[\"muz\",\"ananas\",\"elma\"]\n",
    "kolariList=[100,200,300]\n",
    "gunListesi=[\"pazartesi\",\"sali\",\"çarşamba\"]"
   ]
  },
  {
   "cell_type": "code",
   "execution_count": 30,
   "id": "04fcb325",
   "metadata": {},
   "outputs": [],
   "source": [
    "ziplenmisList=list(zip(foodList,kolariList,gunListesi))"
   ]
  },
  {
   "cell_type": "code",
   "execution_count": 31,
   "id": "6689ccd3",
   "metadata": {},
   "outputs": [
    {
     "data": {
      "text/plain": [
       "[('muz', 100, 'pazartesi'), ('ananas', 200, 'sali'), ('elma', 300, 'çarşamba')]"
      ]
     },
     "execution_count": 31,
     "metadata": {},
     "output_type": "execute_result"
    }
   ],
   "source": [
    "ziplenmisList"
   ]
  },
  {
   "cell_type": "markdown",
   "id": "f3bd2338",
   "metadata": {},
   "source": [
    "# fonksiyonlar"
   ]
  },
  {
   "cell_type": "code",
   "execution_count": 33,
   "id": "87a671cc",
   "metadata": {},
   "outputs": [],
   "source": [
    "myName= \"Dogukan Celik\""
   ]
  },
  {
   "cell_type": "code",
   "execution_count": 34,
   "id": "826a6495",
   "metadata": {},
   "outputs": [
    {
     "data": {
      "text/plain": [
       "'Dogukan Celik'"
      ]
     },
     "execution_count": 34,
     "metadata": {},
     "output_type": "execute_result"
    }
   ],
   "source": [
    "myName"
   ]
  },
  {
   "cell_type": "code",
   "execution_count": 35,
   "id": "fae6e205",
   "metadata": {},
   "outputs": [
    {
     "data": {
      "text/plain": [
       "'DOGUKAN CELIK'"
      ]
     },
     "execution_count": 35,
     "metadata": {},
     "output_type": "execute_result"
    }
   ],
   "source": [
    "myName.upper()"
   ]
  },
  {
   "cell_type": "code",
   "execution_count": 38,
   "id": "b8c91d0b",
   "metadata": {},
   "outputs": [],
   "source": [
    "def firsFunction():\n",
    "    print(\"my first function\")"
   ]
  },
  {
   "cell_type": "code",
   "execution_count": 39,
   "id": "d7a6b190",
   "metadata": {},
   "outputs": [
    {
     "name": "stdout",
     "output_type": "stream",
     "text": [
      "my first function\n"
     ]
    }
   ],
   "source": [
    "firsFunction()"
   ]
  },
  {
   "cell_type": "markdown",
   "id": "a09d4f6f",
   "metadata": {},
   "source": [
    "# input and return"
   ]
  },
  {
   "cell_type": "code",
   "execution_count": 40,
   "id": "970a10d2",
   "metadata": {},
   "outputs": [],
   "source": [
    "def yaz(yazdirilacakSey):\n",
    "    print(\"hi\")\n",
    "    print(yazdirilacakSey)"
   ]
  },
  {
   "cell_type": "code",
   "execution_count": 41,
   "id": "c07780ad",
   "metadata": {},
   "outputs": [
    {
     "name": "stdout",
     "output_type": "stream",
     "text": [
      "hi\n",
      "developer\n"
     ]
    }
   ],
   "source": [
    "yaz(\"developer\")"
   ]
  },
  {
   "cell_type": "code",
   "execution_count": 45,
   "id": "994e7327",
   "metadata": {},
   "outputs": [],
   "source": [
    "#default değer\n",
    "def yazx(yazdirilacakSey=\"bos\"):\n",
    "    print(\"hi\")\n",
    "    print(yazdirilacakSey)"
   ]
  },
  {
   "cell_type": "code",
   "execution_count": 46,
   "id": "5ee26ab3",
   "metadata": {},
   "outputs": [
    {
     "name": "stdout",
     "output_type": "stream",
     "text": [
      "hi\n",
      "bos\n"
     ]
    }
   ],
   "source": [
    "yazx()"
   ]
  },
  {
   "cell_type": "code",
   "execution_count": 47,
   "id": "e817345e",
   "metadata": {},
   "outputs": [],
   "source": [
    "def toplam(sayi1,sayi2):\n",
    "    return sayi1+sayi2"
   ]
  },
  {
   "cell_type": "code",
   "execution_count": 49,
   "id": "c9d2449a",
   "metadata": {},
   "outputs": [
    {
     "data": {
      "text/plain": [
       "30"
      ]
     },
     "execution_count": 49,
     "metadata": {},
     "output_type": "execute_result"
    }
   ],
   "source": [
    "toplam(10,20)"
   ]
  },
  {
   "cell_type": "code",
   "execution_count": 50,
   "id": "b66f4417",
   "metadata": {},
   "outputs": [
    {
     "data": {
      "text/plain": [
       "int"
      ]
     },
     "execution_count": 50,
     "metadata": {},
     "output_type": "execute_result"
    }
   ],
   "source": [
    "type(toplam(10,20))"
   ]
  },
  {
   "cell_type": "markdown",
   "id": "0727298d",
   "metadata": {},
   "source": [
    "# args & kwargs"
   ]
  },
  {
   "cell_type": "code",
   "execution_count": 51,
   "id": "dd7fc0c2",
   "metadata": {},
   "outputs": [],
   "source": [
    "def yeniToplam(*args):\n",
    "    return sum(args)"
   ]
  },
  {
   "cell_type": "code",
   "execution_count": 52,
   "id": "ea49aac8",
   "metadata": {},
   "outputs": [
    {
     "data": {
      "text/plain": [
       "260"
      ]
     },
     "execution_count": 52,
     "metadata": {},
     "output_type": "execute_result"
    }
   ],
   "source": [
    "yeniToplam(10,20,30,40,50,50,60)"
   ]
  },
  {
   "cell_type": "code",
   "execution_count": 53,
   "id": "18b2e295",
   "metadata": {},
   "outputs": [],
   "source": [
    "def yazdiralim(*args):\n",
    "    print(args)"
   ]
  },
  {
   "cell_type": "code",
   "execution_count": 55,
   "id": "01378e52",
   "metadata": {},
   "outputs": [
    {
     "name": "stdout",
     "output_type": "stream",
     "text": [
      "(20, 30, 40, 50, 'hi')\n"
     ]
    }
   ],
   "source": [
    "yazdiralim(20,30,40,50,\"hi\")\n",
    "#tuple"
   ]
  },
  {
   "cell_type": "code",
   "execution_count": null,
   "id": "0aef7371",
   "metadata": {},
   "outputs": [],
   "source": []
  },
  {
   "cell_type": "code",
   "execution_count": 56,
   "id": "2b3f4a97",
   "metadata": {},
   "outputs": [],
   "source": [
    "def ornekFoskiyon(** kwargs):\n",
    "    print(kwargs)"
   ]
  },
  {
   "cell_type": "code",
   "execution_count": 58,
   "id": "bdd94671",
   "metadata": {},
   "outputs": [
    {
     "name": "stdout",
     "output_type": "stream",
     "text": [
      "{'muz': '100', 'elma': '300'}\n"
     ]
    }
   ],
   "source": [
    "ornekFoskiyon(muz=\"100\",elma=\"300\")\n",
    "#dictionary"
   ]
  },
  {
   "cell_type": "markdown",
   "id": "6dab959d",
   "metadata": {},
   "source": [
    "# important Functions"
   ]
  },
  {
   "cell_type": "markdown",
   "id": "60ae6520",
   "metadata": {},
   "source": [
    "map"
   ]
  },
  {
   "cell_type": "code",
   "execution_count": 61,
   "id": "5e0b05c3",
   "metadata": {},
   "outputs": [],
   "source": [
    "#list(map(bolmeİslemi,benimListem))"
   ]
  },
  {
   "cell_type": "markdown",
   "id": "59b8adcd",
   "metadata": {},
   "source": [
    "filter"
   ]
  },
  {
   "cell_type": "code",
   "execution_count": 62,
   "id": "edc47623",
   "metadata": {},
   "outputs": [],
   "source": [
    "#list(filter(bolmeİslemi,benimListem))"
   ]
  },
  {
   "cell_type": "markdown",
   "id": "7c58a978",
   "metadata": {},
   "source": [
    "lambda"
   ]
  },
  {
   "cell_type": "code",
   "execution_count": 63,
   "id": "81ec81c1",
   "metadata": {},
   "outputs": [],
   "source": [
    "carpma=lambda numara:numara*3"
   ]
  },
  {
   "cell_type": "code",
   "execution_count": 64,
   "id": "bb04d3d7",
   "metadata": {},
   "outputs": [
    {
     "data": {
      "text/plain": [
       "30"
      ]
     },
     "execution_count": 64,
     "metadata": {},
     "output_type": "execute_result"
    }
   ],
   "source": [
    "carpma(10)"
   ]
  },
  {
   "cell_type": "markdown",
   "id": "d4bfd0eb",
   "metadata": {},
   "source": [
    "# scope\n"
   ]
  },
  {
   "cell_type": "code",
   "execution_count": 1,
   "id": "9fe60878",
   "metadata": {},
   "outputs": [],
   "source": [
    "numara=20\n",
    "\n",
    "def carpma(rakam):\n",
    "    numara=10\n",
    "    return numara*rakam"
   ]
  },
  {
   "cell_type": "code",
   "execution_count": 2,
   "id": "0ee4d2a7",
   "metadata": {},
   "outputs": [
    {
     "data": {
      "text/plain": [
       "50"
      ]
     },
     "execution_count": 2,
     "metadata": {},
     "output_type": "execute_result"
    }
   ],
   "source": [
    "carpma(5)"
   ]
  },
  {
   "cell_type": "markdown",
   "id": "2b75159e",
   "metadata": {},
   "source": [
    "local,enclosing,global,built-in"
   ]
  },
  {
   "cell_type": "code",
   "execution_count": 10,
   "id": "39f0cc62",
   "metadata": {},
   "outputs": [],
   "source": [
    "#global\n",
    "benimAdim=\"Çelik\"\n",
    "\n",
    "def benimFonskiyonum():\n",
    "    #enclosing\n",
    "    benimAdim=\"Doğukan\"\n",
    "    def icFonksiyon():\n",
    "        #local\n",
    "        benimAdim=\"Şevval\"\n",
    "        print(benimAdim)\n",
    "    icFonksiyon()\n",
    "    \n",
    "#yukarı çıktıkça baskınlık atar  ->print için"
   ]
  },
  {
   "cell_type": "code",
   "execution_count": 11,
   "id": "b8e0abae",
   "metadata": {},
   "outputs": [
    {
     "name": "stdout",
     "output_type": "stream",
     "text": [
      "Şevval\n"
     ]
    }
   ],
   "source": [
    "benimFonskiyonum()"
   ]
  },
  {
   "cell_type": "code",
   "execution_count": 12,
   "id": "c96706e9",
   "metadata": {},
   "outputs": [
    {
     "name": "stdout",
     "output_type": "stream",
     "text": [
      "Çelik\n"
     ]
    }
   ],
   "source": [
    "print(benimAdim)"
   ]
  },
  {
   "cell_type": "markdown",
   "id": "76a43882",
   "metadata": {},
   "source": [
    "# calculator"
   ]
  },
  {
   "cell_type": "code",
   "execution_count": null,
   "id": "18112e5b",
   "metadata": {},
   "outputs": [
    {
     "name": "stdout",
     "output_type": "stream",
     "text": [
      "İLK SAYİ: 10\n",
      "İKİNCİ SAYİ: k\n",
      "sayilari dogru gir\n",
      "İLK SAYİ: 10\n",
      "İKİNCİ SAYİ: 20\n",
      "İslem Seç/\n",
      "10 / 20 = 0.5\n",
      "sayilari dogru gir\n",
      "sayilari dogru gir\n",
      "sayilari dogru gir\n",
      "İLK SAYİ: 10\n",
      "İKİNCİ SAYİ: 20\n",
      "İslem Seç/\n",
      "10 / 20 = 0.5\n",
      "sayilari dogru gir\n",
      "sayilari dogru gir\n"
     ]
    }
   ],
   "source": [
    "def Hesapla(a,b,islem):\n",
    "    if islem not in \"+*/-\":\n",
    "        return \"yanlis secim\"\n",
    "    \n",
    "    if islem == \"+\":\n",
    "        return(str(a)+\" + \" + str(b)+\" = \" + str(a+b))\n",
    "    if islem == \"-\":\n",
    "        return(str(a)+\" - \" + str(b)+\" = \" + str(a-b))\n",
    "    if islem == \"*\":\n",
    "        return(str(a)+\" * \" + str(b)+\" = \" + str(a*b))\n",
    "    if islem == \"/\":\n",
    "        return(str(a)+\" / \" + str(b)+\" = \" + str(a/b))\n",
    "\n",
    "while True:\n",
    "    try:\n",
    "        a=int(input(\"İLK SAYİ: \"))\n",
    "        b=int(input(\"İKİNCİ SAYİ: \"))\n",
    "        islem=input(\"İslem Seç\")\n",
    "        print(Hesapla(a,b,islem))\n",
    "    except:\n",
    "        print(\"sayilari dogru gir\")\n",
    "\n",
    "    \n",
    "  \n",
    "    "
   ]
  },
  {
   "cell_type": "code",
   "execution_count": null,
   "id": "4474f5be",
   "metadata": {},
   "outputs": [],
   "source": [
    "\n",
    "  \n"
   ]
  },
  {
   "cell_type": "code",
   "execution_count": null,
   "id": "413ab36c",
   "metadata": {},
   "outputs": [],
   "source": []
  },
  {
   "cell_type": "code",
   "execution_count": null,
   "id": "db517e5a",
   "metadata": {},
   "outputs": [],
   "source": []
  }
 ],
 "metadata": {
  "kernelspec": {
   "display_name": "Python 3",
   "language": "python",
   "name": "python3"
  },
  "language_info": {
   "codemirror_mode": {
    "name": "ipython",
    "version": 3
   },
   "file_extension": ".py",
   "mimetype": "text/x-python",
   "name": "python",
   "nbconvert_exporter": "python",
   "pygments_lexer": "ipython3",
   "version": "3.8.8"
  }
 },
 "nbformat": 4,
 "nbformat_minor": 5
}
